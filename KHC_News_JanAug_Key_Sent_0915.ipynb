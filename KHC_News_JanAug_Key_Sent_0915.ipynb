{
  "cells": [
    {
      "cell_type": "markdown",
      "metadata": {
        "id": "view-in-github",
        "colab_type": "text"
      },
      "source": [
        "<a href=\"https://colab.research.google.com/github/Stephanie9606/zeno_dashboard_nlp/blob/main/KHC_News_JanAug_Key_Sent_0915.ipynb\" target=\"_parent\"><img src=\"https://colab.research.google.com/assets/colab-badge.svg\" alt=\"Open In Colab\"/></a>"
      ]
    },
    {
      "cell_type": "markdown",
      "metadata": {
        "id": "MZKYB3Gd966l"
      },
      "source": [
        "# **KHC Dashboard Pulsar Data Testing File - Sentiment + Keywords**"
      ]
    },
    {
      "cell_type": "code",
      "execution_count": null,
      "metadata": {
        "colab": {
          "background_save": true
        },
        "id": "f9bFluJqSX5F"
      },
      "outputs": [],
      "source": [
        "import pandas as pd\n",
        "import numpy as np"
      ]
    },
    {
      "cell_type": "code",
      "execution_count": null,
      "metadata": {
        "colab": {
          "base_uri": "https://localhost:8080/"
        },
        "id": "8uRrImaAWGXF",
        "outputId": "0e8ff89e-5e0e-4647-d5d0-7cb6b73c375f"
      },
      "outputs": [
        {
          "name": "stdout",
          "output_type": "stream",
          "text": [
            "Drive already mounted at /content/drive; to attempt to forcibly remount, call drive.mount(\"/content/drive\", force_remount=True).\n"
          ]
        }
      ],
      "source": [
        "from google.colab import drive\n",
        "drive.mount('/content/drive')"
      ]
    },
    {
      "cell_type": "markdown",
      "metadata": {
        "id": "fwIK2M8xScrD"
      },
      "source": [
        "# Data cleaning"
      ]
    },
    {
      "cell_type": "markdown",
      "metadata": {
        "id": "7xrgTmeGVt6t"
      },
      "source": [
        "--- KHC Data Jan - Jun 2023 ---"
      ]
    },
    {
      "cell_type": "code",
      "execution_count": null,
      "metadata": {
        "id": "QZtr06n3U-54"
      },
      "outputs": [],
      "source": [
        "khc_df_16 = pd.read_excel('/content/drive/MyDrive/Zeno_KHC_News/khc_H1_newsblogs_clean_nodirt.xlsx')"
      ]
    },
    {
      "cell_type": "code",
      "execution_count": null,
      "metadata": {
        "id": "jDati4VccOOK"
      },
      "outputs": [],
      "source": [
        "# only keep 'news' (rm blogs)\n",
        "khc_df_16 = khc_df_16[khc_df_16['source'] == 'Online News']"
      ]
    },
    {
      "cell_type": "markdown",
      "metadata": {
        "id": "UJY523M6smBq"
      },
      "source": [
        "--- KHC Data July - Aug 2023 ---"
      ]
    },
    {
      "cell_type": "code",
      "execution_count": null,
      "metadata": {
        "id": "FY3GVLRUufbG"
      },
      "outputs": [],
      "source": [
        "khc_df_78 = pd.read_excel('/content/drive/MyDrive/Zeno_KHC_News/khc_news_JulyAug.xlsx')"
      ]
    },
    {
      "cell_type": "code",
      "execution_count": null,
      "metadata": {
        "id": "9cVN7ajKLm6A"
      },
      "outputs": [],
      "source": [
        "# merge two data\n",
        "khc_df = pd.concat([khc_df_16, khc_df_78], axis=0)"
      ]
    },
    {
      "cell_type": "code",
      "execution_count": null,
      "metadata": {
        "colab": {
          "base_uri": "https://localhost:8080/"
        },
        "id": "tjnXNUVzBvwv",
        "outputId": "03b81bf9-70b8-4dd5-baa2-4577b80319f0"
      },
      "outputs": [
        {
          "data": {
            "text/plain": [
              "16297"
            ]
          },
          "execution_count": 20,
          "metadata": {},
          "output_type": "execute_result"
        }
      ],
      "source": [
        "# check num of rows\n",
        "khc_df.shape[0]"
      ]
    },
    {
      "cell_type": "code",
      "execution_count": null,
      "metadata": {
        "id": "tvrv7_LiB31w"
      },
      "outputs": [],
      "source": [
        "# rm rows with duplicated contents\n",
        "khc_df = khc_df[~khc_df.duplicated(subset='content', keep=False)]"
      ]
    },
    {
      "cell_type": "code",
      "execution_count": null,
      "metadata": {
        "colab": {
          "base_uri": "https://localhost:8080/"
        },
        "id": "Or18CMPqLVzZ",
        "outputId": "b3c732aa-ecb0-4fe7-8f30-f952dbb47565"
      },
      "outputs": [
        {
          "data": {
            "text/plain": [
              "13006"
            ]
          },
          "execution_count": 22,
          "metadata": {},
          "output_type": "execute_result"
        }
      ],
      "source": [
        "khc_df.shape[0]"
      ]
    },
    {
      "cell_type": "code",
      "execution_count": null,
      "metadata": {
        "id": "3qsuFMR_MCLD"
      },
      "outputs": [],
      "source": [
        "# keep only relevant columns\n",
        "columns_to_keep = [0, 1, 2, 5, 6, 9, 14, 18]\n",
        "khc_df = khc_df.iloc[:, columns_to_keep]"
      ]
    },
    {
      "cell_type": "code",
      "execution_count": null,
      "metadata": {
        "id": "wE2Tf2BBHvIl"
      },
      "outputs": [],
      "source": [
        "# run pulsar query again, extract relevant content (security -> food security, too many noise) (Delete \"Heinz\" in the News!)\n",
        "keywords = [\"Kraft Heinz\", \"KHC\", \"Kraft Mac and Cheese\", \"Kraft Singles\", \"Miracle Whip\", \"Heinz ketchup\", \"Lunchables\", \"Velveeta\"]\n",
        "topics = [\"supply chain\", \"supply\", \"food security\", \"supplier\", \"recycled\", \"recycle\", \"recycling\", \"single-use\", \"plastic\", \"package\", \"packaging\", \"waste\", \"environment\", \"nature\", \"product\", \"quality\", \"planet\", \"crisis\", \"challenge\", \"problem\", \"criticism\", \"reputation\"]\n",
        "\n",
        "mask = khc_df['content'].str.contains('|'.join(keywords), case=False) & khc_df['content'].str.contains('|'.join(topics), case=False)\n",
        "\n",
        "khc_df = khc_df[mask]"
      ]
    },
    {
      "cell_type": "code",
      "execution_count": null,
      "metadata": {
        "colab": {
          "base_uri": "https://localhost:8080/"
        },
        "id": "_z1-fribIhRD",
        "outputId": "74d2f3f6-493a-4d55-a1fc-4a56f4a2e4cf"
      },
      "outputs": [
        {
          "data": {
            "text/plain": [
              "8866"
            ]
          },
          "execution_count": 25,
          "metadata": {},
          "output_type": "execute_result"
        }
      ],
      "source": [
        "khc_df.shape[0]"
      ]
    },
    {
      "cell_type": "code",
      "execution_count": null,
      "metadata": {
        "id": "i6229WDOYM7O"
      },
      "outputs": [],
      "source": [
        "khc_df.reset_index(drop=True, inplace=True)"
      ]
    },
    {
      "cell_type": "markdown",
      "metadata": {
        "id": "3GNJjMN6Os_F"
      },
      "source": [
        "--- rm content with high similarity: 90% ---"
      ]
    },
    {
      "cell_type": "code",
      "execution_count": null,
      "metadata": {
        "id": "YxYCqjF1HbIw"
      },
      "outputs": [],
      "source": [
        "# break into each df 100 rows\n",
        "# number of df going to break into\n",
        "num_splits = len(khc_df) // 100 + 1\n",
        "\n",
        "# create a dictionary to store the split DataFrames\n",
        "split_dfs = {}\n",
        "\n",
        "# split the original DataFrame into smaller DataFrames and store them in the dictionary\n",
        "for i in range(num_splits):\n",
        "    start_idx = i * 100\n",
        "    end_idx = (i + 1) * 100\n",
        "    df_name = f'df_{i + 1}'\n",
        "    split_dfs[df_name] = khc_df.iloc[start_idx:end_idx]\n",
        "\n",
        "# access the split DataFrames by name:\n",
        "#print(split_dfs['df_1'])"
      ]
    },
    {
      "cell_type": "code",
      "execution_count": null,
      "metadata": {
        "id": "7KgzUr1EYsoM"
      },
      "outputs": [],
      "source": [
        "# iterate through the split DataFrames and reset the indices\n",
        "for df_name, df in split_dfs.items():\n",
        "    split_dfs[df_name] = df.reset_index(drop=True)"
      ]
    },
    {
      "cell_type": "code",
      "execution_count": null,
      "metadata": {
        "id": "j-oIcmmRWu0G"
      },
      "outputs": [],
      "source": [
        "# take a look\n",
        "#split_dfs['df_2']"
      ]
    },
    {
      "cell_type": "markdown",
      "metadata": {
        "id": "pWIjEjrpeSHg"
      },
      "source": [
        "--- takes around 5-6 mins ---"
      ]
    },
    {
      "cell_type": "code",
      "execution_count": null,
      "metadata": {
        "id": "ApzncJW7btkP"
      },
      "outputs": [],
      "source": [
        "from difflib import SequenceMatcher\n",
        "\n",
        "# Define the similarity threshold\n",
        "similarity_threshold = 0.9\n",
        "\n",
        "# Define a function to process a DataFrame\n",
        "def process_dataframe(df):\n",
        "    # Create a list to store first sentences that have been seen\n",
        "    seen_first_sentences = []\n",
        "\n",
        "    # Create a set to store the indices of rows to remove\n",
        "    indices_to_remove = set()\n",
        "\n",
        "    # Define a function to extract the first sentence from a string\n",
        "    def extract_first_sentence(text):\n",
        "        sentences = text.split('.')\n",
        "        if sentences:\n",
        "            return sentences[0]\n",
        "        else:\n",
        "            return text\n",
        "\n",
        "    # Iterate through the DataFrame\n",
        "    for index, row in df.iterrows():\n",
        "        content = row['content']  # Replace 'data' with the actual column name in your DataFrame\n",
        "        first_sentence = extract_first_sentence(content)\n",
        "\n",
        "        # Check if a similar first sentence has been seen before\n",
        "        similar_to_seen = any(\n",
        "            similarity >= similarity_threshold\n",
        "            for similarity in [SequenceMatcher(None, first_sentence, seen).ratio() for seen in seen_first_sentences]\n",
        "        )\n",
        "\n",
        "        if not similar_to_seen:\n",
        "            seen_first_sentences.append(first_sentence)\n",
        "        else:\n",
        "            indices_to_remove.add(index)\n",
        "\n",
        "    # Remove rows with similar first sentences from the current DataFrame\n",
        "    df = df.drop(list(indices_to_remove))\n",
        "\n",
        "    # Reset the index of the current DataFrame\n",
        "    df = df.reset_index(drop=True)\n",
        "\n",
        "    return df\n",
        "\n",
        "# Iterate through the DataFrames in split_dfs and process each one\n",
        "for df_name in split_dfs.keys():\n",
        "    split_dfs[df_name] = process_dataframe(split_dfs[df_name])\n",
        "\n",
        "# You now have processed DataFrames back in the original dictionary split_dfs"
      ]
    },
    {
      "cell_type": "code",
      "execution_count": null,
      "metadata": {
        "colab": {
          "base_uri": "https://localhost:8080/"
        },
        "id": "95q49EwAcAF3",
        "outputId": "67ee4238-3480-4324-dc60-de3fb04b23ec"
      },
      "outputs": [
        {
          "data": {
            "text/plain": [
              "5157"
            ]
          },
          "execution_count": 30,
          "metadata": {},
          "output_type": "execute_result"
        }
      ],
      "source": [
        "# concat all DataFrames into one big DataFrame\n",
        "big_df = pd.concat(split_dfs.values(), ignore_index=True)\n",
        "\n",
        "# final length of the df\n",
        "big_df.shape[0]"
      ]
    },
    {
      "cell_type": "code",
      "execution_count": null,
      "metadata": {
        "id": "FjVcZmBCjKHC"
      },
      "outputs": [],
      "source": [
        "### GOOD TO GO --> split to eaxh 100 rows and run then concat them\n",
        "from difflib import SequenceMatcher\n",
        "\n",
        "# Define the similarity threshold\n",
        "similarity_threshold = 0.9\n",
        "\n",
        "# Create a list to store first sentences that have been seen\n",
        "seen_first_sentences = []\n",
        "\n",
        "# Create a set to store the indices of rows to remove\n",
        "indices_to_remove = set()\n",
        "\n",
        "# Define a function to extract the first sentence from a string\n",
        "def extract_first_sentence(text):\n",
        "    sentences = text.split('.')\n",
        "    if sentences:\n",
        "        return sentences[0]\n",
        "    else:\n",
        "        return text\n",
        "\n",
        "# Iterate through the DataFrame\n",
        "for index, row in khc_df_test.iterrows():\n",
        "    content = row['content']\n",
        "    first_sentence = extract_first_sentence(content)\n",
        "\n",
        "    # Check if a similar first sentence has been seen before\n",
        "    similar_to_seen = any(\n",
        "        similarity >= similarity_threshold\n",
        "        for similarity in [SequenceMatcher(None, first_sentence, seen).ratio() for seen in seen_first_sentences]\n",
        "    )\n",
        "\n",
        "    if not similar_to_seen:\n",
        "        seen_first_sentences.append(first_sentence)\n",
        "    else:\n",
        "        indices_to_remove.add(index)\n",
        "\n",
        "# Remove rows with similar first sentences\n",
        "khc_df_test = khc_df_test.drop(list(indices_to_remove))\n",
        "\n",
        "# Reset the index\n",
        "khc_df_test = khc_df_test.reset_index(drop=True)\n",
        "\n",
        "# Print the resulting DataFrame\n",
        "print(khc_df_test)"
      ]
    },
    {
      "cell_type": "code",
      "execution_count": null,
      "metadata": {
        "id": "w3PbT0uo8zvC"
      },
      "outputs": [],
      "source": [
        "# save to new excel file\n",
        "big_df.to_excel('/content/drive/MyDrive/Zeno_KHC_News/khc_news_JanAug_clean.xlsx', index=False)"
      ]
    },
    {
      "cell_type": "code",
      "execution_count": null,
      "metadata": {
        "id": "c_w_NE26e1uV"
      },
      "outputs": [],
      "source": [
        "big_df.head(10)"
      ]
    },
    {
      "cell_type": "markdown",
      "metadata": {
        "id": "raM_Z6_cPlsm"
      },
      "source": [
        "# Directly read cleaned file"
      ]
    },
    {
      "cell_type": "code",
      "execution_count": null,
      "metadata": {
        "id": "Dcj6cqw4Ezua"
      },
      "outputs": [],
      "source": [
        "# 5157 rows\n",
        "khc_df_news = pd.read_excel('/content/drive/MyDrive/Zeno_KHC_News/khc_news_JanAug_clean.xlsx')"
      ]
    },
    {
      "cell_type": "code",
      "execution_count": null,
      "metadata": {
        "colab": {
          "base_uri": "https://localhost:8080/"
        },
        "id": "Lq_QPfIMllhS",
        "outputId": "894c6c65-4cf2-472e-daf6-a53a889bbd55"
      },
      "outputs": [
        {
          "data": {
            "text/plain": [
              "5157"
            ]
          },
          "execution_count": 51,
          "metadata": {},
          "output_type": "execute_result"
        }
      ],
      "source": [
        "khc_df_news.shape[0]"
      ]
    },
    {
      "cell_type": "markdown",
      "metadata": {
        "id": "iSBlbmfdoR9Y"
      },
      "source": [
        "# Keywords: KeyBert"
      ]
    },
    {
      "cell_type": "markdown",
      "metadata": {
        "id": "PwZbuBQWAdO5"
      },
      "source": [
        "--- every 1000 rows takes approximately  mins ---"
      ]
    },
    {
      "cell_type": "code",
      "execution_count": null,
      "metadata": {
        "id": "u1haDqNEJOh9"
      },
      "outputs": [],
      "source": [
        "# split into 5 df, each data has about 1000 rows\n",
        "khc_df_n1 = khc_df_news.iloc[:500,:]"
      ]
    },
    {
      "cell_type": "code",
      "execution_count": null,
      "metadata": {
        "id": "KE4pfIQBQDNF"
      },
      "outputs": [],
      "source": [
        "khc_df_n2 = khc_df_news.iloc[500:1000,:]"
      ]
    },
    {
      "cell_type": "code",
      "execution_count": null,
      "metadata": {
        "id": "hnSTZOJZ0tJA"
      },
      "outputs": [],
      "source": [
        "khc_df_n3 = khc_df_news.iloc[1000:1500,:]"
      ]
    },
    {
      "cell_type": "code",
      "execution_count": null,
      "metadata": {
        "id": "1b3NP5C-01ZB"
      },
      "outputs": [],
      "source": [
        "khc_df_n4 = khc_df_news.iloc[1500:2000,:]"
      ]
    },
    {
      "cell_type": "code",
      "execution_count": null,
      "metadata": {
        "id": "x0i8sLz401eB"
      },
      "outputs": [],
      "source": [
        "khc_df_n5 = khc_df_news.iloc[2000:2500,:]"
      ]
    },
    {
      "cell_type": "code",
      "execution_count": null,
      "metadata": {
        "id": "voTCKEac01j9"
      },
      "outputs": [],
      "source": [
        "khc_df_n6 = khc_df_news.iloc[2500:3000,:]"
      ]
    },
    {
      "cell_type": "code",
      "execution_count": null,
      "metadata": {
        "id": "ltUzFMKhQOs9"
      },
      "outputs": [],
      "source": [
        "khc_df_n7 = khc_df_news.iloc[3000:3500,:]"
      ]
    },
    {
      "cell_type": "code",
      "execution_count": null,
      "metadata": {
        "id": "nnXGs0WmQOzx"
      },
      "outputs": [],
      "source": [
        "khc_df_n8 = khc_df_news.iloc[3500:4000,:]"
      ]
    },
    {
      "cell_type": "code",
      "execution_count": null,
      "metadata": {
        "id": "1KAdoX36QO3p"
      },
      "outputs": [],
      "source": [
        "khc_df_n9 = khc_df_news.iloc[4000:4500,:]"
      ]
    },
    {
      "cell_type": "code",
      "execution_count": null,
      "metadata": {
        "id": "HWMyLoE6QPBy"
      },
      "outputs": [],
      "source": [
        "khc_df_n10 = khc_df_news.iloc[4500:,:]"
      ]
    },
    {
      "cell_type": "code",
      "execution_count": null,
      "metadata": {
        "id": "VhNT4Qqx90EB"
      },
      "outputs": [],
      "source": [
        "#!pip3 install keybert\n",
        "from keybert import KeyBERT"
      ]
    },
    {
      "cell_type": "code",
      "execution_count": null,
      "metadata": {
        "id": "Q-5RYR35QEA4"
      },
      "outputs": [],
      "source": [
        "#!pip3 install keyphrase-vectorizers\n",
        "#from keyphrase_vectorizers import KeyphraseCountVectorizer"
      ]
    },
    {
      "cell_type": "code",
      "execution_count": null,
      "metadata": {
        "id": "FeQoJ25bor6n"
      },
      "outputs": [],
      "source": [
        "#!pip3 install transformers\n",
        "# init default vectorizer\n",
        "#vectorizer = KeyphraseCountVectorizer()\n",
        "#print(vectorizer.get_params()) # print parameters\n",
        "\n",
        "# specify model\n",
        "kw_model = KeyBERT('all-MiniLM-L12-v2')\n",
        "# specify number of keywords to extract\n",
        "n_keywords = 5\n",
        "ngram = 2  # specify ngram of keywords"
      ]
    },
    {
      "cell_type": "code",
      "execution_count": null,
      "metadata": {
        "id": "FDJ_aFCv981-"
      },
      "outputs": [],
      "source": [
        "# function to extract keywords for a batch of rows\n",
        "def get_keywords_batch(rows):\n",
        "    contents = rows['content'].tolist()\n",
        "    keywords_batch = kw_model.extract_keywords(contents, stop_words='english', highlight=False, top_n=n_keywords, keyphrase_ngram_range=(1, ngram), diversity=0.2) # vectorizer=vectorizer\n",
        "    return [[keyword[0] for keyword in keywords] for keywords in keywords_batch]"
      ]
    },
    {
      "cell_type": "code",
      "execution_count": null,
      "metadata": {
        "id": "acmVAkuz988n"
      },
      "outputs": [],
      "source": [
        "### change n1 and n2 df to proceed\n",
        "# split the data into batches (higher effieciency)\n",
        "batch_size = 100\n",
        "batches = [khc_df_n10[i:i+batch_size] for i in range(0, len(khc_df_n10), batch_size)]"
      ]
    },
    {
      "cell_type": "markdown",
      "metadata": {
        "id": "N_AzJkUM178-"
      },
      "source": [
        "--- takes approximately 25 mins each 500 rows ---"
      ]
    },
    {
      "cell_type": "code",
      "execution_count": null,
      "metadata": {
        "id": "C54lJyhf99Ap"
      },
      "outputs": [],
      "source": [
        "# extract keywords for each batch and concatenate the results\n",
        "keyword_lists = []\n",
        "for batch in batches:\n",
        "    keyword_lists.extend(get_keywords_batch(batch))"
      ]
    },
    {
      "cell_type": "code",
      "execution_count": null,
      "metadata": {
        "colab": {
          "base_uri": "https://localhost:8080/"
        },
        "id": "bvdGPXaS99FU",
        "outputId": "5a8c2ad1-ae46-4c75-daf8-acfb27feda43"
      },
      "outputs": [
        {
          "name": "stderr",
          "output_type": "stream",
          "text": [
            "<ipython-input-58-f43bdaae4a20>:3: SettingWithCopyWarning: \n",
            "A value is trying to be set on a copy of a slice from a DataFrame.\n",
            "Try using .loc[row_indexer,col_indexer] = value instead\n",
            "\n",
            "See the caveats in the documentation: https://pandas.pydata.org/pandas-docs/stable/user_guide/indexing.html#returning-a-view-versus-a-copy\n",
            "  khc_df_n10['keywords'] = keyword_lists\n",
            "<ipython-input-58-f43bdaae4a20>:5: SettingWithCopyWarning: \n",
            "A value is trying to be set on a copy of a slice from a DataFrame.\n",
            "Try using .loc[row_indexer,col_indexer] = value instead\n",
            "\n",
            "See the caveats in the documentation: https://pandas.pydata.org/pandas-docs/stable/user_guide/indexing.html#returning-a-view-versus-a-copy\n",
            "  khc_df_n10['keywords'] = khc_df_n10['keywords'].apply(lambda x: ', '.join(x))\n"
          ]
        }
      ],
      "source": [
        "### change n1 and n2 df to proceed\n",
        "# add the keyword lists as a new column to the DataFrame\n",
        "khc_df_n10['keywords'] = keyword_lists\n",
        "# format to better fit in Excel\n",
        "khc_df_n10['keywords'] = khc_df_n10['keywords'].apply(lambda x: ', '.join(x))"
      ]
    },
    {
      "cell_type": "code",
      "execution_count": null,
      "metadata": {
        "id": "s4d0YrwO_2Ag"
      },
      "outputs": [],
      "source": [
        "khc_df_n2.iloc[:,[3,-2,-1]]"
      ]
    },
    {
      "cell_type": "code",
      "execution_count": null,
      "metadata": {
        "id": "TdPb58xcLfh5"
      },
      "outputs": [],
      "source": [
        "### change n1 and n2 df to proceed\n",
        "khc_df_n10.to_excel('/content/drive/MyDrive/Zeno_KHC_News/News_w_Keywords0915/khc_news_JanAug_key5gram2_0921_10.xlsx', index=False)"
      ]
    },
    {
      "cell_type": "markdown",
      "metadata": {
        "id": "XfRuo4k_va59"
      },
      "source": [
        "--- Read all the files with keywords ---"
      ]
    },
    {
      "cell_type": "code",
      "execution_count": null,
      "metadata": {
        "id": "zNRMpNdguygS"
      },
      "outputs": [],
      "source": [
        "# read all the files\n",
        "khc_df_n1 = pd.read_excel('/content/drive/MyDrive/Zeno_KHC_News/News_w_Keywords0915/khc_news_JanAug_key5gram2_0921_1.xlsx')\n",
        "khc_df_n2 = pd.read_excel('/content/drive/MyDrive/Zeno_KHC_News/News_w_Keywords0915/khc_news_JanAug_key5gram2_0921_2.xlsx')\n",
        "khc_df_n3 = pd.read_excel('/content/drive/MyDrive/Zeno_KHC_News/News_w_Keywords0915/khc_news_JanAug_key5gram2_0921_3.xlsx')\n",
        "khc_df_n4 = pd.read_excel('/content/drive/MyDrive/Zeno_KHC_News/News_w_Keywords0915/khc_news_JanAug_key5gram2_0921_4.xlsx')\n",
        "khc_df_n5 = pd.read_excel('/content/drive/MyDrive/Zeno_KHC_News/News_w_Keywords0915/khc_news_JanAug_key5gram2_0921_5.xlsx')\n",
        "khc_df_n6 = pd.read_excel('/content/drive/MyDrive/Zeno_KHC_News/News_w_Keywords0915/khc_news_JanAug_key5gram2_0921_6.xlsx')\n",
        "khc_df_n7 = pd.read_excel('/content/drive/MyDrive/Zeno_KHC_News/News_w_Keywords0915/khc_news_JanAug_key5gram2_0921_7.xlsx')\n",
        "khc_df_n8 = pd.read_excel('/content/drive/MyDrive/Zeno_KHC_News/News_w_Keywords0915/khc_news_JanAug_key5gram2_0921_8.xlsx')\n",
        "khc_df_n9 = pd.read_excel('/content/drive/MyDrive/Zeno_KHC_News/News_w_Keywords0915/khc_news_JanAug_key5gram2_0921_9.xlsx')\n",
        "khc_df_n10 = pd.read_excel('/content/drive/MyDrive/Zeno_KHC_News/News_w_Keywords0915/khc_news_JanAug_key5gram2_0921_10.xlsx')"
      ]
    },
    {
      "cell_type": "code",
      "execution_count": null,
      "metadata": {
        "id": "s1Z1TUBamqc0"
      },
      "outputs": [],
      "source": [
        "# merge n1 - n10\n",
        "khc_news_key = pd.concat([khc_df_n1, khc_df_n2, khc_df_n3, khc_df_n4, khc_df_n5, khc_df_n6, khc_df_n7, khc_df_n8, khc_df_n9, khc_df_n10], axis=0)"
      ]
    },
    {
      "cell_type": "code",
      "execution_count": null,
      "metadata": {
        "id": "aS7kAVPAXdzS"
      },
      "outputs": [],
      "source": [
        "khc_news_key.head()"
      ]
    },
    {
      "cell_type": "markdown",
      "metadata": {
        "id": "pxXPmxztv2oa"
      },
      "source": [
        "# Add Category"
      ]
    },
    {
      "cell_type": "code",
      "execution_count": null,
      "metadata": {
        "id": "DwE0Zefqv2CX"
      },
      "outputs": [],
      "source": [
        "# define keyword categories\n",
        "keyword_categories = {\n",
        "    \"[Key Issue] Supply chain\": [\"supply chain\", \"supply\", \"supplier\"],\n",
        "    \"[Key Issue] Single-use plastic\": [\"recycle\", \"single-use\", \"plastic\", \"package\", \"packaging\"],\n",
        "    \"[Key Issue] Sustainability\": [\"waste\", \"environment\", \"nature\", \"planet\"],\n",
        "    \"FDA leadership\": [\"leadership\", \"FDA\"],\n",
        "    \"Food safety\": [\"food safety\"],\n",
        "    \"Crisis & Criticism\": [\"crisis\", \"challenge\", \"problem\", \"criticism\"],\n",
        "    \"Food security\": [\"food security\", \"security\"],\n",
        "    \"Brand reputation\": [\"reputation\"],\n",
        "    \"Product quality\": [\"product\", \"quality\"],\n",
        "}\n",
        "\n",
        "# Function to count keyword occurrences in a given text and return the category\n",
        "def categorize_keywords(text):\n",
        "    keyword_counts = {category: 0 for category in keyword_categories}\n",
        "    text = text.lower()  # Convert text to lowercase for case-insensitive counting\n",
        "\n",
        "    for category, keywords in keyword_categories.items():\n",
        "        for keyword in keywords:\n",
        "            keyword_counts[category] += text.count(keyword)\n",
        "\n",
        "    # Check if all counts are zero and assign a special category for no keywords found\n",
        "    if all(count == 0 for count in keyword_counts.values()):\n",
        "        return \"Others\"\n",
        "\n",
        "    return max(keyword_counts, key=keyword_counts.get)\n",
        "\n",
        "khc_news_key['category'] = khc_news_key['content'].apply(categorize_keywords)"
      ]
    },
    {
      "cell_type": "code",
      "execution_count": null,
      "metadata": {
        "id": "Ro4Hcr1UwKu1"
      },
      "outputs": [],
      "source": [
        "khc_news_key.head()"
      ]
    },
    {
      "cell_type": "code",
      "execution_count": null,
      "metadata": {
        "id": "hBApFznyvyAP"
      },
      "outputs": [],
      "source": [
        "khc_news_key.to_excel('/content/drive/MyDrive/Zeno_KHC_News/khc_news_JanAug_all_0925.xlsx', index=False)"
      ]
    },
    {
      "cell_type": "markdown",
      "metadata": {
        "id": "tJMz9T17AmbD"
      },
      "source": [
        "# Sentiment using DistillBERT for News"
      ]
    },
    {
      "cell_type": "code",
      "execution_count": null,
      "metadata": {
        "id": "cmDmoTwCyOB8"
      },
      "outputs": [],
      "source": []
    },
    {
      "cell_type": "markdown",
      "metadata": {
        "id": "HeOLs4rX8g7i"
      },
      "source": [
        "# Check sentiment quality"
      ]
    },
    {
      "cell_type": "code",
      "execution_count": null,
      "metadata": {
        "colab": {
          "base_uri": "https://localhost:8080/"
        },
        "id": "r5sN90Ps8m2H",
        "outputId": "994be740-ddec-4cf2-de38-1d30afab6ba8"
      },
      "outputs": [
        {
          "data": {
            "text/plain": [
              "array(['negative', 'positive'], dtype=object)"
            ]
          },
          "execution_count": 20,
          "metadata": {},
          "output_type": "execute_result"
        }
      ],
      "source": [
        "# check unique output\n",
        "khc_df_n1000['flair_sentiment'].unique()"
      ]
    },
    {
      "cell_type": "code",
      "execution_count": null,
      "metadata": {
        "colab": {
          "base_uri": "https://localhost:8080/"
        },
        "id": "j6HK7eDX4DQV",
        "outputId": "a41f54d0-6d7a-4d67-b6b5-bc4c201509f3"
      },
      "outputs": [
        {
          "data": {
            "text/plain": [
              "False"
            ]
          },
          "execution_count": 21,
          "metadata": {},
          "output_type": "execute_result"
        }
      ],
      "source": [
        "# check on neutral prediction\n",
        "khc_df_n1000['flair_sentiment'].str.contains('neutral', case=False).any()"
      ]
    },
    {
      "cell_type": "code",
      "execution_count": null,
      "metadata": {
        "colab": {
          "base_uri": "https://localhost:8080/",
          "height": 177
        },
        "id": "hh21YWrz4YcV",
        "outputId": "0fc87356-4f89-458a-e36a-94169d7cda1e"
      },
      "outputs": [
        {
          "data": {
            "text/html": [
              "\n",
              "\n",
              "  <div id=\"df-537baa37-2492-4812-8177-27fd1ea07490\">\n",
              "    <div class=\"colab-df-container\">\n",
              "      <div>\n",
              "<style scoped>\n",
              "    .dataframe tbody tr th:only-of-type {\n",
              "        vertical-align: middle;\n",
              "    }\n",
              "\n",
              "    .dataframe tbody tr th {\n",
              "        vertical-align: top;\n",
              "    }\n",
              "\n",
              "    .dataframe thead th {\n",
              "        text-align: right;\n",
              "    }\n",
              "</style>\n",
              "<table border=\"1\" class=\"dataframe\">\n",
              "  <thead>\n",
              "    <tr style=\"text-align: right;\">\n",
              "      <th></th>\n",
              "      <th>id</th>\n",
              "      <th>search</th>\n",
              "      <th>source</th>\n",
              "      <th>application</th>\n",
              "      <th>title</th>\n",
              "      <th>content</th>\n",
              "      <th>date</th>\n",
              "      <th>parent</th>\n",
              "      <th>language</th>\n",
              "      <th>url</th>\n",
              "      <th>...</th>\n",
              "      <th>human rights</th>\n",
              "      <th>labor practices</th>\n",
              "      <th>community and society</th>\n",
              "      <th>workforce protection</th>\n",
              "      <th>local content</th>\n",
              "      <th>post subtype</th>\n",
              "      <th>post type</th>\n",
              "      <th>keywords</th>\n",
              "      <th>flair_sentiment</th>\n",
              "      <th>flair_sentiment_score</th>\n",
              "    </tr>\n",
              "  </thead>\n",
              "  <tbody>\n",
              "  </tbody>\n",
              "</table>\n",
              "<p>0 rows × 67 columns</p>\n",
              "</div>\n",
              "      <button class=\"colab-df-convert\" onclick=\"convertToInteractive('df-537baa37-2492-4812-8177-27fd1ea07490')\"\n",
              "              title=\"Convert this dataframe to an interactive table.\"\n",
              "              style=\"display:none;\">\n",
              "\n",
              "  <svg xmlns=\"http://www.w3.org/2000/svg\" height=\"24px\"viewBox=\"0 0 24 24\"\n",
              "       width=\"24px\">\n",
              "    <path d=\"M0 0h24v24H0V0z\" fill=\"none\"/>\n",
              "    <path d=\"M18.56 5.44l.94 2.06.94-2.06 2.06-.94-2.06-.94-.94-2.06-.94 2.06-2.06.94zm-11 1L8.5 8.5l.94-2.06 2.06-.94-2.06-.94L8.5 2.5l-.94 2.06-2.06.94zm10 10l.94 2.06.94-2.06 2.06-.94-2.06-.94-.94-2.06-.94 2.06-2.06.94z\"/><path d=\"M17.41 7.96l-1.37-1.37c-.4-.4-.92-.59-1.43-.59-.52 0-1.04.2-1.43.59L10.3 9.45l-7.72 7.72c-.78.78-.78 2.05 0 2.83L4 21.41c.39.39.9.59 1.41.59.51 0 1.02-.2 1.41-.59l7.78-7.78 2.81-2.81c.8-.78.8-2.07 0-2.86zM5.41 20L4 18.59l7.72-7.72 1.47 1.35L5.41 20z\"/>\n",
              "  </svg>\n",
              "      </button>\n",
              "\n",
              "\n",
              "\n",
              "    <div id=\"df-d84c7331-00ed-4604-82ff-1710722b21a8\">\n",
              "      <button class=\"colab-df-quickchart\" onclick=\"quickchart('df-d84c7331-00ed-4604-82ff-1710722b21a8')\"\n",
              "              title=\"Suggest charts.\"\n",
              "              style=\"display:none;\">\n",
              "\n",
              "<svg xmlns=\"http://www.w3.org/2000/svg\" height=\"24px\"viewBox=\"0 0 24 24\"\n",
              "     width=\"24px\">\n",
              "    <g>\n",
              "        <path d=\"M19 3H5c-1.1 0-2 .9-2 2v14c0 1.1.9 2 2 2h14c1.1 0 2-.9 2-2V5c0-1.1-.9-2-2-2zM9 17H7v-7h2v7zm4 0h-2V7h2v10zm4 0h-2v-4h2v4z\"/>\n",
              "    </g>\n",
              "</svg>\n",
              "      </button>\n",
              "    </div>\n",
              "\n",
              "<style>\n",
              "  .colab-df-quickchart {\n",
              "    background-color: #E8F0FE;\n",
              "    border: none;\n",
              "    border-radius: 50%;\n",
              "    cursor: pointer;\n",
              "    display: none;\n",
              "    fill: #1967D2;\n",
              "    height: 32px;\n",
              "    padding: 0 0 0 0;\n",
              "    width: 32px;\n",
              "  }\n",
              "\n",
              "  .colab-df-quickchart:hover {\n",
              "    background-color: #E2EBFA;\n",
              "    box-shadow: 0px 1px 2px rgba(60, 64, 67, 0.3), 0px 1px 3px 1px rgba(60, 64, 67, 0.15);\n",
              "    fill: #174EA6;\n",
              "  }\n",
              "\n",
              "  [theme=dark] .colab-df-quickchart {\n",
              "    background-color: #3B4455;\n",
              "    fill: #D2E3FC;\n",
              "  }\n",
              "\n",
              "  [theme=dark] .colab-df-quickchart:hover {\n",
              "    background-color: #434B5C;\n",
              "    box-shadow: 0px 1px 3px 1px rgba(0, 0, 0, 0.15);\n",
              "    filter: drop-shadow(0px 1px 2px rgba(0, 0, 0, 0.3));\n",
              "    fill: #FFFFFF;\n",
              "  }\n",
              "</style>\n",
              "\n",
              "    <script>\n",
              "      async function quickchart(key) {\n",
              "        const containerElement = document.querySelector('#' + key);\n",
              "        const charts = await google.colab.kernel.invokeFunction(\n",
              "            'suggestCharts', [key], {});\n",
              "      }\n",
              "    </script>\n",
              "\n",
              "      <script>\n",
              "\n",
              "function displayQuickchartButton(domScope) {\n",
              "  let quickchartButtonEl =\n",
              "    domScope.querySelector('#df-d84c7331-00ed-4604-82ff-1710722b21a8 button.colab-df-quickchart');\n",
              "  quickchartButtonEl.style.display =\n",
              "    google.colab.kernel.accessAllowed ? 'block' : 'none';\n",
              "}\n",
              "\n",
              "        displayQuickchartButton(document);\n",
              "      </script>\n",
              "      <style>\n",
              "    .colab-df-container {\n",
              "      display:flex;\n",
              "      flex-wrap:wrap;\n",
              "      gap: 12px;\n",
              "    }\n",
              "\n",
              "    .colab-df-convert {\n",
              "      background-color: #E8F0FE;\n",
              "      border: none;\n",
              "      border-radius: 50%;\n",
              "      cursor: pointer;\n",
              "      display: none;\n",
              "      fill: #1967D2;\n",
              "      height: 32px;\n",
              "      padding: 0 0 0 0;\n",
              "      width: 32px;\n",
              "    }\n",
              "\n",
              "    .colab-df-convert:hover {\n",
              "      background-color: #E2EBFA;\n",
              "      box-shadow: 0px 1px 2px rgba(60, 64, 67, 0.3), 0px 1px 3px 1px rgba(60, 64, 67, 0.15);\n",
              "      fill: #174EA6;\n",
              "    }\n",
              "\n",
              "    [theme=dark] .colab-df-convert {\n",
              "      background-color: #3B4455;\n",
              "      fill: #D2E3FC;\n",
              "    }\n",
              "\n",
              "    [theme=dark] .colab-df-convert:hover {\n",
              "      background-color: #434B5C;\n",
              "      box-shadow: 0px 1px 3px 1px rgba(0, 0, 0, 0.15);\n",
              "      filter: drop-shadow(0px 1px 2px rgba(0, 0, 0, 0.3));\n",
              "      fill: #FFFFFF;\n",
              "    }\n",
              "  </style>\n",
              "\n",
              "      <script>\n",
              "        const buttonEl =\n",
              "          document.querySelector('#df-537baa37-2492-4812-8177-27fd1ea07490 button.colab-df-convert');\n",
              "        buttonEl.style.display =\n",
              "          google.colab.kernel.accessAllowed ? 'block' : 'none';\n",
              "\n",
              "        async function convertToInteractive(key) {\n",
              "          const element = document.querySelector('#df-537baa37-2492-4812-8177-27fd1ea07490');\n",
              "          const dataTable =\n",
              "            await google.colab.kernel.invokeFunction('convertToInteractive',\n",
              "                                                     [key], {});\n",
              "          if (!dataTable) return;\n",
              "\n",
              "          const docLinkHtml = 'Like what you see? Visit the ' +\n",
              "            '<a target=\"_blank\" href=https://colab.research.google.com/notebooks/data_table.ipynb>data table notebook</a>'\n",
              "            + ' to learn more about interactive tables.';\n",
              "          element.innerHTML = '';\n",
              "          dataTable['output_type'] = 'display_data';\n",
              "          await google.colab.output.renderOutput(dataTable, element);\n",
              "          const docLink = document.createElement('div');\n",
              "          docLink.innerHTML = docLinkHtml;\n",
              "          element.appendChild(docLink);\n",
              "        }\n",
              "      </script>\n",
              "    </div>\n",
              "  </div>\n"
            ],
            "text/plain": [
              "Empty DataFrame\n",
              "Columns: [id, search, source, application, title, content, date, parent, language, url, parent source identifier, domain, credibility, credibility score, topics, image tags, tags, sentiment, sentiment class, sentiment by, main emotion, visibility, potential impressions, actual impressions, ave, duration, circulation, city, country, latitude, longitude, user city, user country, user latitude, user longitude, no. of followers, no. of friends, gender, bio, user views, links url, no. of comments, no. of likes, no. of shares, no. of retweets, no. of views, user name, user screen name, user source id, eRep, CSR, trust, CX, intensity, climate change, environmental impact, biodiversity, human rights, labor practices, community and society, workforce protection, local content, post subtype, post type, keywords, flair_sentiment, flair_sentiment_score]\n",
              "Index: []\n",
              "\n",
              "[0 rows x 67 columns]"
            ]
          },
          "execution_count": 47,
          "metadata": {},
          "output_type": "execute_result"
        }
      ],
      "source": [
        "neutral_df = khc_df_n1000[khc_df_n1000['flair_sentiment'] == 'neutral']\n",
        "neutral_df.head()"
      ]
    },
    {
      "cell_type": "code",
      "execution_count": null,
      "metadata": {
        "colab": {
          "base_uri": "https://localhost:8080/"
        },
        "id": "HrskIwCB8k9W",
        "outputId": "69d71a3e-c406-4e2c-da93-b2eddc4fa9b8"
      },
      "outputs": [
        {
          "data": {
            "text/plain": [
              "182"
            ]
          },
          "execution_count": 48,
          "metadata": {},
          "output_type": "execute_result"
        }
      ],
      "source": [
        "# check the score\n",
        "low_df = khc_df_tw[khc_df_tw['flair_sentiment_score'] < 0.7]\n",
        "low_df.shape[0]"
      ]
    },
    {
      "cell_type": "code",
      "execution_count": null,
      "metadata": {
        "colab": {
          "base_uri": "https://localhost:8080/",
          "height": 918
        },
        "id": "bQNV0TqolJcg",
        "outputId": "c86d8c9d-9a6c-40f6-bb5e-8208714ddc21"
      },
      "outputs": [
        {
          "data": {
            "text/html": [
              "\n",
              "\n",
              "  <div id=\"df-e0df22e5-4b5d-4cb4-9341-e59d09d619f2\">\n",
              "    <div class=\"colab-df-container\">\n",
              "      <div>\n",
              "<style scoped>\n",
              "    .dataframe tbody tr th:only-of-type {\n",
              "        vertical-align: middle;\n",
              "    }\n",
              "\n",
              "    .dataframe tbody tr th {\n",
              "        vertical-align: top;\n",
              "    }\n",
              "\n",
              "    .dataframe thead th {\n",
              "        text-align: right;\n",
              "    }\n",
              "</style>\n",
              "<table border=\"1\" class=\"dataframe\">\n",
              "  <thead>\n",
              "    <tr style=\"text-align: right;\">\n",
              "      <th></th>\n",
              "      <th>content</th>\n",
              "      <th>flair_sentiment</th>\n",
              "      <th>flair_sentiment_score</th>\n",
              "    </tr>\n",
              "  </thead>\n",
              "  <tbody>\n",
              "    <tr>\n",
              "      <th>14</th>\n",
              "      <td>Buffett praising $COST's Kirkland brand. He st...</td>\n",
              "      <td>positive</td>\n",
              "      <td>0.500105</td>\n",
              "    </tr>\n",
              "    <tr>\n",
              "      <th>17</th>\n",
              "      <td>It's your problem you took it any other way!...</td>\n",
              "      <td>negative</td>\n",
              "      <td>0.657860</td>\n",
              "    </tr>\n",
              "    <tr>\n",
              "      <th>43</th>\n",
              "      <td>Lord Cornwallis: {{short description|1955 film...</td>\n",
              "      <td>positive</td>\n",
              "      <td>0.610610</td>\n",
              "    </tr>\n",
              "    <tr>\n",
              "      <th>84</th>\n",
              "      <td>Heinz say:Because of its natural acidity, Hei...</td>\n",
              "      <td>positive</td>\n",
              "      <td>0.603075</td>\n",
              "    </tr>\n",
              "    <tr>\n",
              "      <th>91</th>\n",
              "      <td>Today on Garret Lewis i spoke about happened a...</td>\n",
              "      <td>negative</td>\n",
              "      <td>0.690468</td>\n",
              "    </tr>\n",
              "    <tr>\n",
              "      <th>...</th>\n",
              "      <td>...</td>\n",
              "      <td>...</td>\n",
              "      <td>...</td>\n",
              "    </tr>\n",
              "    <tr>\n",
              "      <th>2921</th>\n",
              "      <td>Sometimes! If it is quality stuff.Not Heinz.</td>\n",
              "      <td>negative</td>\n",
              "      <td>0.527366</td>\n",
              "    </tr>\n",
              "    <tr>\n",
              "      <th>2950</th>\n",
              "      <td>This looks like a food security marker.Heinz ...</td>\n",
              "      <td>negative</td>\n",
              "      <td>0.562701</td>\n",
              "    </tr>\n",
              "    <tr>\n",
              "      <th>2954</th>\n",
              "      <td>Freelance creative director, Elliott Starr, wa...</td>\n",
              "      <td>negative</td>\n",
              "      <td>0.637750</td>\n",
              "    </tr>\n",
              "    <tr>\n",
              "      <th>2988</th>\n",
              "      <td>For real.  You'd have to challenge in court (...</td>\n",
              "      <td>negative</td>\n",
              "      <td>0.585367</td>\n",
              "    </tr>\n",
              "    <tr>\n",
              "      <th>2993</th>\n",
              "      <td>Cause whet is de problem with a lil miracle w...</td>\n",
              "      <td>negative</td>\n",
              "      <td>0.678862</td>\n",
              "    </tr>\n",
              "  </tbody>\n",
              "</table>\n",
              "<p>182 rows × 3 columns</p>\n",
              "</div>\n",
              "      <button class=\"colab-df-convert\" onclick=\"convertToInteractive('df-e0df22e5-4b5d-4cb4-9341-e59d09d619f2')\"\n",
              "              title=\"Convert this dataframe to an interactive table.\"\n",
              "              style=\"display:none;\">\n",
              "\n",
              "  <svg xmlns=\"http://www.w3.org/2000/svg\" height=\"24px\"viewBox=\"0 0 24 24\"\n",
              "       width=\"24px\">\n",
              "    <path d=\"M0 0h24v24H0V0z\" fill=\"none\"/>\n",
              "    <path d=\"M18.56 5.44l.94 2.06.94-2.06 2.06-.94-2.06-.94-.94-2.06-.94 2.06-2.06.94zm-11 1L8.5 8.5l.94-2.06 2.06-.94-2.06-.94L8.5 2.5l-.94 2.06-2.06.94zm10 10l.94 2.06.94-2.06 2.06-.94-2.06-.94-.94-2.06-.94 2.06-2.06.94z\"/><path d=\"M17.41 7.96l-1.37-1.37c-.4-.4-.92-.59-1.43-.59-.52 0-1.04.2-1.43.59L10.3 9.45l-7.72 7.72c-.78.78-.78 2.05 0 2.83L4 21.41c.39.39.9.59 1.41.59.51 0 1.02-.2 1.41-.59l7.78-7.78 2.81-2.81c.8-.78.8-2.07 0-2.86zM5.41 20L4 18.59l7.72-7.72 1.47 1.35L5.41 20z\"/>\n",
              "  </svg>\n",
              "      </button>\n",
              "\n",
              "\n",
              "\n",
              "    <div id=\"df-f31162d8-3251-4a28-8aa0-15a8bbb6f314\">\n",
              "      <button class=\"colab-df-quickchart\" onclick=\"quickchart('df-f31162d8-3251-4a28-8aa0-15a8bbb6f314')\"\n",
              "              title=\"Suggest charts.\"\n",
              "              style=\"display:none;\">\n",
              "\n",
              "<svg xmlns=\"http://www.w3.org/2000/svg\" height=\"24px\"viewBox=\"0 0 24 24\"\n",
              "     width=\"24px\">\n",
              "    <g>\n",
              "        <path d=\"M19 3H5c-1.1 0-2 .9-2 2v14c0 1.1.9 2 2 2h14c1.1 0 2-.9 2-2V5c0-1.1-.9-2-2-2zM9 17H7v-7h2v7zm4 0h-2V7h2v10zm4 0h-2v-4h2v4z\"/>\n",
              "    </g>\n",
              "</svg>\n",
              "      </button>\n",
              "    </div>\n",
              "\n",
              "<style>\n",
              "  .colab-df-quickchart {\n",
              "    background-color: #E8F0FE;\n",
              "    border: none;\n",
              "    border-radius: 50%;\n",
              "    cursor: pointer;\n",
              "    display: none;\n",
              "    fill: #1967D2;\n",
              "    height: 32px;\n",
              "    padding: 0 0 0 0;\n",
              "    width: 32px;\n",
              "  }\n",
              "\n",
              "  .colab-df-quickchart:hover {\n",
              "    background-color: #E2EBFA;\n",
              "    box-shadow: 0px 1px 2px rgba(60, 64, 67, 0.3), 0px 1px 3px 1px rgba(60, 64, 67, 0.15);\n",
              "    fill: #174EA6;\n",
              "  }\n",
              "\n",
              "  [theme=dark] .colab-df-quickchart {\n",
              "    background-color: #3B4455;\n",
              "    fill: #D2E3FC;\n",
              "  }\n",
              "\n",
              "  [theme=dark] .colab-df-quickchart:hover {\n",
              "    background-color: #434B5C;\n",
              "    box-shadow: 0px 1px 3px 1px rgba(0, 0, 0, 0.15);\n",
              "    filter: drop-shadow(0px 1px 2px rgba(0, 0, 0, 0.3));\n",
              "    fill: #FFFFFF;\n",
              "  }\n",
              "</style>\n",
              "\n",
              "    <script>\n",
              "      async function quickchart(key) {\n",
              "        const containerElement = document.querySelector('#' + key);\n",
              "        const charts = await google.colab.kernel.invokeFunction(\n",
              "            'suggestCharts', [key], {});\n",
              "      }\n",
              "    </script>\n",
              "\n",
              "      <script>\n",
              "\n",
              "function displayQuickchartButton(domScope) {\n",
              "  let quickchartButtonEl =\n",
              "    domScope.querySelector('#df-f31162d8-3251-4a28-8aa0-15a8bbb6f314 button.colab-df-quickchart');\n",
              "  quickchartButtonEl.style.display =\n",
              "    google.colab.kernel.accessAllowed ? 'block' : 'none';\n",
              "}\n",
              "\n",
              "        displayQuickchartButton(document);\n",
              "      </script>\n",
              "      <style>\n",
              "    .colab-df-container {\n",
              "      display:flex;\n",
              "      flex-wrap:wrap;\n",
              "      gap: 12px;\n",
              "    }\n",
              "\n",
              "    .colab-df-convert {\n",
              "      background-color: #E8F0FE;\n",
              "      border: none;\n",
              "      border-radius: 50%;\n",
              "      cursor: pointer;\n",
              "      display: none;\n",
              "      fill: #1967D2;\n",
              "      height: 32px;\n",
              "      padding: 0 0 0 0;\n",
              "      width: 32px;\n",
              "    }\n",
              "\n",
              "    .colab-df-convert:hover {\n",
              "      background-color: #E2EBFA;\n",
              "      box-shadow: 0px 1px 2px rgba(60, 64, 67, 0.3), 0px 1px 3px 1px rgba(60, 64, 67, 0.15);\n",
              "      fill: #174EA6;\n",
              "    }\n",
              "\n",
              "    [theme=dark] .colab-df-convert {\n",
              "      background-color: #3B4455;\n",
              "      fill: #D2E3FC;\n",
              "    }\n",
              "\n",
              "    [theme=dark] .colab-df-convert:hover {\n",
              "      background-color: #434B5C;\n",
              "      box-shadow: 0px 1px 3px 1px rgba(0, 0, 0, 0.15);\n",
              "      filter: drop-shadow(0px 1px 2px rgba(0, 0, 0, 0.3));\n",
              "      fill: #FFFFFF;\n",
              "    }\n",
              "  </style>\n",
              "\n",
              "      <script>\n",
              "        const buttonEl =\n",
              "          document.querySelector('#df-e0df22e5-4b5d-4cb4-9341-e59d09d619f2 button.colab-df-convert');\n",
              "        buttonEl.style.display =\n",
              "          google.colab.kernel.accessAllowed ? 'block' : 'none';\n",
              "\n",
              "        async function convertToInteractive(key) {\n",
              "          const element = document.querySelector('#df-e0df22e5-4b5d-4cb4-9341-e59d09d619f2');\n",
              "          const dataTable =\n",
              "            await google.colab.kernel.invokeFunction('convertToInteractive',\n",
              "                                                     [key], {});\n",
              "          if (!dataTable) return;\n",
              "\n",
              "          const docLinkHtml = 'Like what you see? Visit the ' +\n",
              "            '<a target=\"_blank\" href=https://colab.research.google.com/notebooks/data_table.ipynb>data table notebook</a>'\n",
              "            + ' to learn more about interactive tables.';\n",
              "          element.innerHTML = '';\n",
              "          dataTable['output_type'] = 'display_data';\n",
              "          await google.colab.output.renderOutput(dataTable, element);\n",
              "          const docLink = document.createElement('div');\n",
              "          docLink.innerHTML = docLinkHtml;\n",
              "          element.appendChild(docLink);\n",
              "        }\n",
              "      </script>\n",
              "    </div>\n",
              "  </div>\n"
            ],
            "text/plain": [
              "                                                content flair_sentiment  \\\n",
              "14    Buffett praising $COST's Kirkland brand. He st...        positive   \n",
              "17      It's your problem you took it any other way!...        negative   \n",
              "43    Lord Cornwallis: {{short description|1955 film...        positive   \n",
              "84     Heinz say:Because of its natural acidity, Hei...        positive   \n",
              "91    Today on Garret Lewis i spoke about happened a...        negative   \n",
              "...                                                 ...             ...   \n",
              "2921       Sometimes! If it is quality stuff.Not Heinz.        negative   \n",
              "2950   This looks like a food security marker.Heinz ...        negative   \n",
              "2954  Freelance creative director, Elliott Starr, wa...        negative   \n",
              "2988   For real.  You'd have to challenge in court (...        negative   \n",
              "2993   Cause whet is de problem with a lil miracle w...        negative   \n",
              "\n",
              "      flair_sentiment_score  \n",
              "14                 0.500105  \n",
              "17                 0.657860  \n",
              "43                 0.610610  \n",
              "84                 0.603075  \n",
              "91                 0.690468  \n",
              "...                     ...  \n",
              "2921               0.527366  \n",
              "2950               0.562701  \n",
              "2954               0.637750  \n",
              "2988               0.585367  \n",
              "2993               0.678862  \n",
              "\n",
              "[182 rows x 3 columns]"
            ]
          },
          "execution_count": 49,
          "metadata": {},
          "output_type": "execute_result"
        }
      ],
      "source": [
        "low_df.iloc[:,[5,-2,-1]]"
      ]
    },
    {
      "cell_type": "markdown",
      "metadata": {
        "id": "7fykIIwumVGt"
      },
      "source": [
        "--- if sentiment score < 0.7 --> set to neutral ---"
      ]
    },
    {
      "cell_type": "code",
      "execution_count": null,
      "metadata": {
        "id": "jjUXdf6tmUN0"
      },
      "outputs": [],
      "source": [
        "#khc_df_tw.loc[khc_df_tw['flair_sentiment_score'] < 0.7, 'flair_sentiment'] = 'neutral'"
      ]
    },
    {
      "cell_type": "markdown",
      "metadata": {
        "id": "0UWRjlpdBKer"
      },
      "source": [
        "# Difference between Pulsar and Flair sentiment"
      ]
    },
    {
      "cell_type": "code",
      "execution_count": null,
      "metadata": {
        "id": "z77mXhFgxNEi"
      },
      "outputs": [],
      "source": [
        "# Twitter\n",
        "different_df = khc_df_n1000[khc_df_n1000['flair_sentiment'] != khc_df_n1000['sentiment class']]\n",
        "different_df = different_df.iloc[:, [0,5,18,-2,-1]]\n",
        "different_df"
      ]
    },
    {
      "cell_type": "markdown",
      "metadata": {
        "id": "cTz9ddCdH51H"
      },
      "source": [
        "# Sum: BART"
      ]
    },
    {
      "cell_type": "code",
      "execution_count": null,
      "metadata": {
        "id": "vfAeN5rjNT_G"
      },
      "outputs": [],
      "source": [
        "#!pip3 install transformers\n",
        "from transformers import BartTokenizer, BartForConditionalGeneration\n",
        "import tensorflow as tf"
      ]
    },
    {
      "cell_type": "code",
      "execution_count": null,
      "metadata": {
        "colab": {
          "base_uri": "https://localhost:8080/",
          "height": 209
        },
        "id": "dn0Oy1QRNpNC",
        "outputId": "f25320b9-00ff-4db5-cdfe-e56bdfac9fce"
      },
      "outputs": [
        {
          "data": {
            "application/vnd.jupyter.widget-view+json": {
              "model_id": "ef9a68dc3c85480eb47bdb471c5bf087",
              "version_major": 2,
              "version_minor": 0
            },
            "text/plain": [
              "Downloading (…)olve/main/vocab.json:   0%|          | 0.00/899k [00:00<?, ?B/s]"
            ]
          },
          "metadata": {},
          "output_type": "display_data"
        },
        {
          "data": {
            "application/vnd.jupyter.widget-view+json": {
              "model_id": "ab3f531e77af4014acd59e1bbc80693f",
              "version_major": 2,
              "version_minor": 0
            },
            "text/plain": [
              "Downloading (…)olve/main/merges.txt:   0%|          | 0.00/456k [00:00<?, ?B/s]"
            ]
          },
          "metadata": {},
          "output_type": "display_data"
        },
        {
          "data": {
            "application/vnd.jupyter.widget-view+json": {
              "model_id": "6aa1b31bd17846c79dbb8297950c8cda",
              "version_major": 2,
              "version_minor": 0
            },
            "text/plain": [
              "Downloading (…)okenizer_config.json:   0%|          | 0.00/26.0 [00:00<?, ?B/s]"
            ]
          },
          "metadata": {},
          "output_type": "display_data"
        },
        {
          "data": {
            "application/vnd.jupyter.widget-view+json": {
              "model_id": "8f6c8739f4bb4a4a8fa72e472493771f",
              "version_major": 2,
              "version_minor": 0
            },
            "text/plain": [
              "Downloading (…)lve/main/config.json:   0%|          | 0.00/1.51k [00:00<?, ?B/s]"
            ]
          },
          "metadata": {},
          "output_type": "display_data"
        },
        {
          "data": {
            "application/vnd.jupyter.widget-view+json": {
              "model_id": "fcd91fcf8135478087adbe070915f5c8",
              "version_major": 2,
              "version_minor": 0
            },
            "text/plain": [
              "Downloading pytorch_model.bin:   0%|          | 0.00/1.63G [00:00<?, ?B/s]"
            ]
          },
          "metadata": {},
          "output_type": "display_data"
        },
        {
          "data": {
            "application/vnd.jupyter.widget-view+json": {
              "model_id": "2797eb9260ef437ebd8d6d32ef7caddc",
              "version_major": 2,
              "version_minor": 0
            },
            "text/plain": [
              "Downloading (…)neration_config.json:   0%|          | 0.00/309 [00:00<?, ?B/s]"
            ]
          },
          "metadata": {},
          "output_type": "display_data"
        }
      ],
      "source": [
        "model_name = \"facebook/bart-large-xsum\" #\"facebook/bart-large-cnn\"\n",
        "tokenizer = BartTokenizer.from_pretrained(model_name)\n",
        "model = BartForConditionalGeneration.from_pretrained(model_name)"
      ]
    },
    {
      "cell_type": "code",
      "execution_count": null,
      "metadata": {
        "id": "hUx1is0xRohl"
      },
      "outputs": [],
      "source": [
        "# define a function to generate summaries using BART for a batch of texts\n",
        "def generate_summaries_batch(texts):\n",
        "    inputs = tokenizer.batch_encode_plus(texts, return_tensors=\"pt\", max_length=1024, truncation=True, padding=True)\n",
        "    summary_ids = model.generate(inputs[\"input_ids\"], max_length=100, min_length=30, length_penalty=2.0, num_beams=6, no_repeat_ngram_size=2, early_stopping=True)\n",
        "    summaries = [tokenizer.decode(summary, skip_special_tokens=True) for summary in summary_ids]\n",
        "    return summaries"
      ]
    },
    {
      "cell_type": "code",
      "execution_count": null,
      "metadata": {
        "id": "34cau5My_iLr"
      },
      "outputs": [],
      "source": [
        "khc_sum_n100 = khc_df_news.iloc[:100,:]"
      ]
    },
    {
      "cell_type": "code",
      "execution_count": null,
      "metadata": {
        "id": "XGLubDcl_uRp"
      },
      "outputs": [],
      "source": [
        "khc_sum_n100.iloc[:,[5,-1]]"
      ]
    },
    {
      "cell_type": "code",
      "execution_count": null,
      "metadata": {
        "colab": {
          "base_uri": "https://localhost:8080/",
          "height": 381
        },
        "id": "keopb_LRRqYG",
        "outputId": "fb6aed35-d847-49af-a7e7-ced4274dd45c"
      },
      "outputs": [
        {
          "ename": "KeyboardInterrupt",
          "evalue": "ignored",
          "output_type": "error",
          "traceback": [
            "\u001b[0;31m---------------------------------------------------------------------------\u001b[0m",
            "\u001b[0;31mKeyboardInterrupt\u001b[0m                         Traceback (most recent call last)",
            "\u001b[0;32m<ipython-input-17-01735c065e90>\u001b[0m in \u001b[0;36m<cell line: 9>\u001b[0;34m()\u001b[0m\n\u001b[1;32m      8\u001b[0m \u001b[0msummaries\u001b[0m \u001b[0;34m=\u001b[0m \u001b[0;34m[\u001b[0m\u001b[0;34m]\u001b[0m\u001b[0;34m\u001b[0m\u001b[0;34m\u001b[0m\u001b[0m\n\u001b[1;32m      9\u001b[0m \u001b[0;32mfor\u001b[0m \u001b[0mbatch\u001b[0m \u001b[0;32min\u001b[0m \u001b[0mtext_batches\u001b[0m\u001b[0;34m:\u001b[0m\u001b[0;34m\u001b[0m\u001b[0;34m\u001b[0m\u001b[0m\n\u001b[0;32m---> 10\u001b[0;31m     \u001b[0mbatch_summaries\u001b[0m \u001b[0;34m=\u001b[0m \u001b[0mgenerate_summaries_batch\u001b[0m\u001b[0;34m(\u001b[0m\u001b[0mbatch\u001b[0m\u001b[0;34m)\u001b[0m\u001b[0;34m\u001b[0m\u001b[0;34m\u001b[0m\u001b[0m\n\u001b[0m\u001b[1;32m     11\u001b[0m     \u001b[0msummaries\u001b[0m\u001b[0;34m.\u001b[0m\u001b[0mextend\u001b[0m\u001b[0;34m(\u001b[0m\u001b[0mbatch_summaries\u001b[0m\u001b[0;34m)\u001b[0m\u001b[0;34m\u001b[0m\u001b[0;34m\u001b[0m\u001b[0m\n",
            "\u001b[0;32m<ipython-input-14-a38fe653f0fa>\u001b[0m in \u001b[0;36mgenerate_summaries_batch\u001b[0;34m(texts)\u001b[0m\n\u001b[1;32m      2\u001b[0m \u001b[0;32mdef\u001b[0m \u001b[0mgenerate_summaries_batch\u001b[0m\u001b[0;34m(\u001b[0m\u001b[0mtexts\u001b[0m\u001b[0;34m)\u001b[0m\u001b[0;34m:\u001b[0m\u001b[0;34m\u001b[0m\u001b[0;34m\u001b[0m\u001b[0m\n\u001b[1;32m      3\u001b[0m     \u001b[0minputs\u001b[0m \u001b[0;34m=\u001b[0m \u001b[0mtokenizer\u001b[0m\u001b[0;34m.\u001b[0m\u001b[0mbatch_encode_plus\u001b[0m\u001b[0;34m(\u001b[0m\u001b[0mtexts\u001b[0m\u001b[0;34m,\u001b[0m \u001b[0mreturn_tensors\u001b[0m\u001b[0;34m=\u001b[0m\u001b[0;34m\"pt\"\u001b[0m\u001b[0;34m,\u001b[0m \u001b[0mmax_length\u001b[0m\u001b[0;34m=\u001b[0m\u001b[0;36m1024\u001b[0m\u001b[0;34m,\u001b[0m \u001b[0mtruncation\u001b[0m\u001b[0;34m=\u001b[0m\u001b[0;32mTrue\u001b[0m\u001b[0;34m,\u001b[0m \u001b[0mpadding\u001b[0m\u001b[0;34m=\u001b[0m\u001b[0;32mTrue\u001b[0m\u001b[0;34m)\u001b[0m\u001b[0;34m\u001b[0m\u001b[0;34m\u001b[0m\u001b[0m\n\u001b[0;32m----> 4\u001b[0;31m     \u001b[0msummary_ids\u001b[0m \u001b[0;34m=\u001b[0m \u001b[0mmodel\u001b[0m\u001b[0;34m.\u001b[0m\u001b[0mgenerate\u001b[0m\u001b[0;34m(\u001b[0m\u001b[0minputs\u001b[0m\u001b[0;34m[\u001b[0m\u001b[0;34m\"input_ids\"\u001b[0m\u001b[0;34m]\u001b[0m\u001b[0;34m,\u001b[0m \u001b[0mmax_length\u001b[0m\u001b[0;34m=\u001b[0m\u001b[0;36m100\u001b[0m\u001b[0;34m,\u001b[0m \u001b[0mmin_length\u001b[0m\u001b[0;34m=\u001b[0m\u001b[0;36m30\u001b[0m\u001b[0;34m,\u001b[0m \u001b[0mlength_penalty\u001b[0m\u001b[0;34m=\u001b[0m\u001b[0;36m2.0\u001b[0m\u001b[0;34m,\u001b[0m \u001b[0mnum_beams\u001b[0m\u001b[0;34m=\u001b[0m\u001b[0;36m6\u001b[0m\u001b[0;34m,\u001b[0m \u001b[0mno_repeat_ngram_size\u001b[0m\u001b[0;34m=\u001b[0m\u001b[0;36m2\u001b[0m\u001b[0;34m,\u001b[0m \u001b[0mearly_stopping\u001b[0m\u001b[0;34m=\u001b[0m\u001b[0;32mTrue\u001b[0m\u001b[0;34m)\u001b[0m\u001b[0;34m\u001b[0m\u001b[0;34m\u001b[0m\u001b[0m\n\u001b[0m\u001b[1;32m      5\u001b[0m     \u001b[0msummaries\u001b[0m \u001b[0;34m=\u001b[0m \u001b[0;34m[\u001b[0m\u001b[0mtokenizer\u001b[0m\u001b[0;34m.\u001b[0m\u001b[0mdecode\u001b[0m\u001b[0;34m(\u001b[0m\u001b[0msummary\u001b[0m\u001b[0;34m,\u001b[0m \u001b[0mskip_special_tokens\u001b[0m\u001b[0;34m=\u001b[0m\u001b[0;32mTrue\u001b[0m\u001b[0;34m)\u001b[0m \u001b[0;32mfor\u001b[0m \u001b[0msummary\u001b[0m \u001b[0;32min\u001b[0m \u001b[0msummary_ids\u001b[0m\u001b[0;34m]\u001b[0m\u001b[0;34m\u001b[0m\u001b[0;34m\u001b[0m\u001b[0m\n\u001b[1;32m      6\u001b[0m     \u001b[0;32mreturn\u001b[0m \u001b[0msummaries\u001b[0m\u001b[0;34m\u001b[0m\u001b[0;34m\u001b[0m\u001b[0m\n",
            "\u001b[0;32m/usr/local/lib/python3.10/dist-packages/torch/utils/_contextlib.py\u001b[0m in \u001b[0;36mdecorate_context\u001b[0;34m(*args, **kwargs)\u001b[0m\n\u001b[1;32m    113\u001b[0m     \u001b[0;32mdef\u001b[0m \u001b[0mdecorate_context\u001b[0m\u001b[0;34m(\u001b[0m\u001b[0;34m*\u001b[0m\u001b[0margs\u001b[0m\u001b[0;34m,\u001b[0m \u001b[0;34m**\u001b[0m\u001b[0mkwargs\u001b[0m\u001b[0;34m)\u001b[0m\u001b[0;34m:\u001b[0m\u001b[0;34m\u001b[0m\u001b[0;34m\u001b[0m\u001b[0m\n\u001b[1;32m    114\u001b[0m         \u001b[0;32mwith\u001b[0m \u001b[0mctx_factory\u001b[0m\u001b[0;34m(\u001b[0m\u001b[0;34m)\u001b[0m\u001b[0;34m:\u001b[0m\u001b[0;34m\u001b[0m\u001b[0;34m\u001b[0m\u001b[0m\n\u001b[0;32m--> 115\u001b[0;31m             \u001b[0;32mreturn\u001b[0m \u001b[0mfunc\u001b[0m\u001b[0;34m(\u001b[0m\u001b[0;34m*\u001b[0m\u001b[0margs\u001b[0m\u001b[0;34m,\u001b[0m \u001b[0;34m**\u001b[0m\u001b[0mkwargs\u001b[0m\u001b[0;34m)\u001b[0m\u001b[0;34m\u001b[0m\u001b[0;34m\u001b[0m\u001b[0m\n\u001b[0m\u001b[1;32m    116\u001b[0m \u001b[0;34m\u001b[0m\u001b[0m\n\u001b[1;32m    117\u001b[0m     \u001b[0;32mreturn\u001b[0m \u001b[0mdecorate_context\u001b[0m\u001b[0;34m\u001b[0m\u001b[0;34m\u001b[0m\u001b[0m\n",
            "\u001b[0;32m/usr/local/lib/python3.10/dist-packages/transformers/generation/utils.py\u001b[0m in \u001b[0;36mgenerate\u001b[0;34m(self, inputs, generation_config, logits_processor, stopping_criteria, prefix_allowed_tokens_fn, synced_gpus, assistant_model, streamer, negative_prompt_ids, negative_prompt_attention_mask, **kwargs)\u001b[0m\n\u001b[1;32m   1490\u001b[0m             \u001b[0;31m# if model is encoder decoder encoder_outputs are created\u001b[0m\u001b[0;34m\u001b[0m\u001b[0;34m\u001b[0m\u001b[0m\n\u001b[1;32m   1491\u001b[0m             \u001b[0;31m# and added to `model_kwargs`\u001b[0m\u001b[0;34m\u001b[0m\u001b[0;34m\u001b[0m\u001b[0m\n\u001b[0;32m-> 1492\u001b[0;31m             model_kwargs = self._prepare_encoder_decoder_kwargs_for_generation(\n\u001b[0m\u001b[1;32m   1493\u001b[0m                 \u001b[0minputs_tensor\u001b[0m\u001b[0;34m,\u001b[0m \u001b[0mmodel_kwargs\u001b[0m\u001b[0;34m,\u001b[0m \u001b[0mmodel_input_name\u001b[0m\u001b[0;34m\u001b[0m\u001b[0;34m\u001b[0m\u001b[0m\n\u001b[1;32m   1494\u001b[0m             )\n",
            "\u001b[0;32m/usr/local/lib/python3.10/dist-packages/transformers/generation/utils.py\u001b[0m in \u001b[0;36m_prepare_encoder_decoder_kwargs_for_generation\u001b[0;34m(self, inputs_tensor, model_kwargs, model_input_name)\u001b[0m\n\u001b[1;32m    659\u001b[0m         \u001b[0mencoder_kwargs\u001b[0m\u001b[0;34m[\u001b[0m\u001b[0;34m\"return_dict\"\u001b[0m\u001b[0;34m]\u001b[0m \u001b[0;34m=\u001b[0m \u001b[0;32mTrue\u001b[0m\u001b[0;34m\u001b[0m\u001b[0;34m\u001b[0m\u001b[0m\n\u001b[1;32m    660\u001b[0m         \u001b[0mencoder_kwargs\u001b[0m\u001b[0;34m[\u001b[0m\u001b[0mmodel_input_name\u001b[0m\u001b[0;34m]\u001b[0m \u001b[0;34m=\u001b[0m \u001b[0minputs_tensor\u001b[0m\u001b[0;34m\u001b[0m\u001b[0;34m\u001b[0m\u001b[0m\n\u001b[0;32m--> 661\u001b[0;31m         \u001b[0mmodel_kwargs\u001b[0m\u001b[0;34m[\u001b[0m\u001b[0;34m\"encoder_outputs\"\u001b[0m\u001b[0;34m]\u001b[0m\u001b[0;34m:\u001b[0m \u001b[0mModelOutput\u001b[0m \u001b[0;34m=\u001b[0m \u001b[0mencoder\u001b[0m\u001b[0;34m(\u001b[0m\u001b[0;34m**\u001b[0m\u001b[0mencoder_kwargs\u001b[0m\u001b[0;34m)\u001b[0m\u001b[0;34m\u001b[0m\u001b[0;34m\u001b[0m\u001b[0m\n\u001b[0m\u001b[1;32m    662\u001b[0m \u001b[0;34m\u001b[0m\u001b[0m\n\u001b[1;32m    663\u001b[0m         \u001b[0;32mreturn\u001b[0m \u001b[0mmodel_kwargs\u001b[0m\u001b[0;34m\u001b[0m\u001b[0;34m\u001b[0m\u001b[0m\n",
            "\u001b[0;32m/usr/local/lib/python3.10/dist-packages/torch/nn/modules/module.py\u001b[0m in \u001b[0;36m_call_impl\u001b[0;34m(self, *args, **kwargs)\u001b[0m\n\u001b[1;32m   1499\u001b[0m                 \u001b[0;32mor\u001b[0m \u001b[0m_global_backward_pre_hooks\u001b[0m \u001b[0;32mor\u001b[0m \u001b[0m_global_backward_hooks\u001b[0m\u001b[0;34m\u001b[0m\u001b[0;34m\u001b[0m\u001b[0m\n\u001b[1;32m   1500\u001b[0m                 or _global_forward_hooks or _global_forward_pre_hooks):\n\u001b[0;32m-> 1501\u001b[0;31m             \u001b[0;32mreturn\u001b[0m \u001b[0mforward_call\u001b[0m\u001b[0;34m(\u001b[0m\u001b[0;34m*\u001b[0m\u001b[0margs\u001b[0m\u001b[0;34m,\u001b[0m \u001b[0;34m**\u001b[0m\u001b[0mkwargs\u001b[0m\u001b[0;34m)\u001b[0m\u001b[0;34m\u001b[0m\u001b[0;34m\u001b[0m\u001b[0m\n\u001b[0m\u001b[1;32m   1502\u001b[0m         \u001b[0;31m# Do not call functions when jit is used\u001b[0m\u001b[0;34m\u001b[0m\u001b[0;34m\u001b[0m\u001b[0m\n\u001b[1;32m   1503\u001b[0m         \u001b[0mfull_backward_hooks\u001b[0m\u001b[0;34m,\u001b[0m \u001b[0mnon_full_backward_hooks\u001b[0m \u001b[0;34m=\u001b[0m \u001b[0;34m[\u001b[0m\u001b[0;34m]\u001b[0m\u001b[0;34m,\u001b[0m \u001b[0;34m[\u001b[0m\u001b[0;34m]\u001b[0m\u001b[0;34m\u001b[0m\u001b[0;34m\u001b[0m\u001b[0m\n",
            "\u001b[0;32m/usr/local/lib/python3.10/dist-packages/transformers/models/bart/modeling_bart.py\u001b[0m in \u001b[0;36mforward\u001b[0;34m(self, input_ids, attention_mask, head_mask, inputs_embeds, output_attentions, output_hidden_states, return_dict)\u001b[0m\n\u001b[1;32m    869\u001b[0m                     )\n\u001b[1;32m    870\u001b[0m                 \u001b[0;32melse\u001b[0m\u001b[0;34m:\u001b[0m\u001b[0;34m\u001b[0m\u001b[0;34m\u001b[0m\u001b[0m\n\u001b[0;32m--> 871\u001b[0;31m                     layer_outputs = encoder_layer(\n\u001b[0m\u001b[1;32m    872\u001b[0m                         \u001b[0mhidden_states\u001b[0m\u001b[0;34m,\u001b[0m\u001b[0;34m\u001b[0m\u001b[0;34m\u001b[0m\u001b[0m\n\u001b[1;32m    873\u001b[0m                         \u001b[0mattention_mask\u001b[0m\u001b[0;34m,\u001b[0m\u001b[0;34m\u001b[0m\u001b[0;34m\u001b[0m\u001b[0m\n",
            "\u001b[0;32m/usr/local/lib/python3.10/dist-packages/torch/nn/modules/module.py\u001b[0m in \u001b[0;36m_call_impl\u001b[0;34m(self, *args, **kwargs)\u001b[0m\n\u001b[1;32m   1499\u001b[0m                 \u001b[0;32mor\u001b[0m \u001b[0m_global_backward_pre_hooks\u001b[0m \u001b[0;32mor\u001b[0m \u001b[0m_global_backward_hooks\u001b[0m\u001b[0;34m\u001b[0m\u001b[0;34m\u001b[0m\u001b[0m\n\u001b[1;32m   1500\u001b[0m                 or _global_forward_hooks or _global_forward_pre_hooks):\n\u001b[0;32m-> 1501\u001b[0;31m             \u001b[0;32mreturn\u001b[0m \u001b[0mforward_call\u001b[0m\u001b[0;34m(\u001b[0m\u001b[0;34m*\u001b[0m\u001b[0margs\u001b[0m\u001b[0;34m,\u001b[0m \u001b[0;34m**\u001b[0m\u001b[0mkwargs\u001b[0m\u001b[0;34m)\u001b[0m\u001b[0;34m\u001b[0m\u001b[0;34m\u001b[0m\u001b[0m\n\u001b[0m\u001b[1;32m   1502\u001b[0m         \u001b[0;31m# Do not call functions when jit is used\u001b[0m\u001b[0;34m\u001b[0m\u001b[0;34m\u001b[0m\u001b[0m\n\u001b[1;32m   1503\u001b[0m         \u001b[0mfull_backward_hooks\u001b[0m\u001b[0;34m,\u001b[0m \u001b[0mnon_full_backward_hooks\u001b[0m \u001b[0;34m=\u001b[0m \u001b[0;34m[\u001b[0m\u001b[0;34m]\u001b[0m\u001b[0;34m,\u001b[0m \u001b[0;34m[\u001b[0m\u001b[0;34m]\u001b[0m\u001b[0;34m\u001b[0m\u001b[0;34m\u001b[0m\u001b[0m\n",
            "\u001b[0;32m/usr/local/lib/python3.10/dist-packages/transformers/models/bart/modeling_bart.py\u001b[0m in \u001b[0;36mforward\u001b[0;34m(self, hidden_states, attention_mask, layer_head_mask, output_attentions)\u001b[0m\n\u001b[1;32m    341\u001b[0m \u001b[0;34m\u001b[0m\u001b[0m\n\u001b[1;32m    342\u001b[0m         \u001b[0mresidual\u001b[0m \u001b[0;34m=\u001b[0m \u001b[0mhidden_states\u001b[0m\u001b[0;34m\u001b[0m\u001b[0;34m\u001b[0m\u001b[0m\n\u001b[0;32m--> 343\u001b[0;31m         \u001b[0mhidden_states\u001b[0m \u001b[0;34m=\u001b[0m \u001b[0mself\u001b[0m\u001b[0;34m.\u001b[0m\u001b[0mactivation_fn\u001b[0m\u001b[0;34m(\u001b[0m\u001b[0mself\u001b[0m\u001b[0;34m.\u001b[0m\u001b[0mfc1\u001b[0m\u001b[0;34m(\u001b[0m\u001b[0mhidden_states\u001b[0m\u001b[0;34m)\u001b[0m\u001b[0;34m)\u001b[0m\u001b[0;34m\u001b[0m\u001b[0;34m\u001b[0m\u001b[0m\n\u001b[0m\u001b[1;32m    344\u001b[0m         \u001b[0mhidden_states\u001b[0m \u001b[0;34m=\u001b[0m \u001b[0mnn\u001b[0m\u001b[0;34m.\u001b[0m\u001b[0mfunctional\u001b[0m\u001b[0;34m.\u001b[0m\u001b[0mdropout\u001b[0m\u001b[0;34m(\u001b[0m\u001b[0mhidden_states\u001b[0m\u001b[0;34m,\u001b[0m \u001b[0mp\u001b[0m\u001b[0;34m=\u001b[0m\u001b[0mself\u001b[0m\u001b[0;34m.\u001b[0m\u001b[0mactivation_dropout\u001b[0m\u001b[0;34m,\u001b[0m \u001b[0mtraining\u001b[0m\u001b[0;34m=\u001b[0m\u001b[0mself\u001b[0m\u001b[0;34m.\u001b[0m\u001b[0mtraining\u001b[0m\u001b[0;34m)\u001b[0m\u001b[0;34m\u001b[0m\u001b[0;34m\u001b[0m\u001b[0m\n\u001b[1;32m    345\u001b[0m         \u001b[0mhidden_states\u001b[0m \u001b[0;34m=\u001b[0m \u001b[0mself\u001b[0m\u001b[0;34m.\u001b[0m\u001b[0mfc2\u001b[0m\u001b[0;34m(\u001b[0m\u001b[0mhidden_states\u001b[0m\u001b[0;34m)\u001b[0m\u001b[0;34m\u001b[0m\u001b[0;34m\u001b[0m\u001b[0m\n",
            "\u001b[0;32m/usr/local/lib/python3.10/dist-packages/torch/nn/modules/module.py\u001b[0m in \u001b[0;36m_call_impl\u001b[0;34m(self, *args, **kwargs)\u001b[0m\n\u001b[1;32m   1499\u001b[0m                 \u001b[0;32mor\u001b[0m \u001b[0m_global_backward_pre_hooks\u001b[0m \u001b[0;32mor\u001b[0m \u001b[0m_global_backward_hooks\u001b[0m\u001b[0;34m\u001b[0m\u001b[0;34m\u001b[0m\u001b[0m\n\u001b[1;32m   1500\u001b[0m                 or _global_forward_hooks or _global_forward_pre_hooks):\n\u001b[0;32m-> 1501\u001b[0;31m             \u001b[0;32mreturn\u001b[0m \u001b[0mforward_call\u001b[0m\u001b[0;34m(\u001b[0m\u001b[0;34m*\u001b[0m\u001b[0margs\u001b[0m\u001b[0;34m,\u001b[0m \u001b[0;34m**\u001b[0m\u001b[0mkwargs\u001b[0m\u001b[0;34m)\u001b[0m\u001b[0;34m\u001b[0m\u001b[0;34m\u001b[0m\u001b[0m\n\u001b[0m\u001b[1;32m   1502\u001b[0m         \u001b[0;31m# Do not call functions when jit is used\u001b[0m\u001b[0;34m\u001b[0m\u001b[0;34m\u001b[0m\u001b[0m\n\u001b[1;32m   1503\u001b[0m         \u001b[0mfull_backward_hooks\u001b[0m\u001b[0;34m,\u001b[0m \u001b[0mnon_full_backward_hooks\u001b[0m \u001b[0;34m=\u001b[0m \u001b[0;34m[\u001b[0m\u001b[0;34m]\u001b[0m\u001b[0;34m,\u001b[0m \u001b[0;34m[\u001b[0m\u001b[0;34m]\u001b[0m\u001b[0;34m\u001b[0m\u001b[0;34m\u001b[0m\u001b[0m\n",
            "\u001b[0;32m/usr/local/lib/python3.10/dist-packages/torch/nn/modules/linear.py\u001b[0m in \u001b[0;36mforward\u001b[0;34m(self, input)\u001b[0m\n\u001b[1;32m    112\u001b[0m \u001b[0;34m\u001b[0m\u001b[0m\n\u001b[1;32m    113\u001b[0m     \u001b[0;32mdef\u001b[0m \u001b[0mforward\u001b[0m\u001b[0;34m(\u001b[0m\u001b[0mself\u001b[0m\u001b[0;34m,\u001b[0m \u001b[0minput\u001b[0m\u001b[0;34m:\u001b[0m \u001b[0mTensor\u001b[0m\u001b[0;34m)\u001b[0m \u001b[0;34m->\u001b[0m \u001b[0mTensor\u001b[0m\u001b[0;34m:\u001b[0m\u001b[0;34m\u001b[0m\u001b[0;34m\u001b[0m\u001b[0m\n\u001b[0;32m--> 114\u001b[0;31m         \u001b[0;32mreturn\u001b[0m \u001b[0mF\u001b[0m\u001b[0;34m.\u001b[0m\u001b[0mlinear\u001b[0m\u001b[0;34m(\u001b[0m\u001b[0minput\u001b[0m\u001b[0;34m,\u001b[0m \u001b[0mself\u001b[0m\u001b[0;34m.\u001b[0m\u001b[0mweight\u001b[0m\u001b[0;34m,\u001b[0m \u001b[0mself\u001b[0m\u001b[0;34m.\u001b[0m\u001b[0mbias\u001b[0m\u001b[0;34m)\u001b[0m\u001b[0;34m\u001b[0m\u001b[0;34m\u001b[0m\u001b[0m\n\u001b[0m\u001b[1;32m    115\u001b[0m \u001b[0;34m\u001b[0m\u001b[0m\n\u001b[1;32m    116\u001b[0m     \u001b[0;32mdef\u001b[0m \u001b[0mextra_repr\u001b[0m\u001b[0;34m(\u001b[0m\u001b[0mself\u001b[0m\u001b[0;34m)\u001b[0m \u001b[0;34m->\u001b[0m \u001b[0mstr\u001b[0m\u001b[0;34m:\u001b[0m\u001b[0;34m\u001b[0m\u001b[0;34m\u001b[0m\u001b[0m\n",
            "\u001b[0;31mKeyboardInterrupt\u001b[0m: "
          ]
        }
      ],
      "source": [
        "# batch size for processing multiple texts at once\n",
        "batch_size = 25\n",
        "\n",
        "# create batches of texts for summarization\n",
        "text_batches = [khc_sum_n100[\"content\"][i:i+batch_size].tolist() for i in range(0, len(khc_sum_n100), batch_size)]\n",
        "\n",
        "# generate summaries for each batch and concatenate the results\n",
        "summaries = []\n",
        "for batch in text_batches:\n",
        "    batch_summaries = generate_summaries_batch(batch)\n",
        "    summaries.extend(batch_summaries)"
      ]
    },
    {
      "cell_type": "code",
      "execution_count": null,
      "metadata": {
        "id": "FR4s9z2pH44m"
      },
      "outputs": [],
      "source": [
        "# Add the summaries to the DataFrame\n",
        "khc_sum_n100[\"bart_summary\"] = summaries"
      ]
    },
    {
      "cell_type": "code",
      "execution_count": null,
      "metadata": {
        "id": "Rwlm0INkMd_Z"
      },
      "outputs": [],
      "source": [
        "khc_sum_n100.iloc[:,[5,-1]]"
      ]
    },
    {
      "cell_type": "code",
      "execution_count": null,
      "metadata": {
        "id": "ngLgUrjzLvKu"
      },
      "outputs": [],
      "source": [
        "# save to new excel file\n",
        "khc_sum_n100.to_excel('/content/drive/MyDrive/Zeno/news_w_sum/khc_H1_khc_n100_BARTxsum.xlsx', index=False)"
      ]
    },
    {
      "cell_type": "code",
      "execution_count": null,
      "metadata": {
        "id": "xjWWwBwuAuat"
      },
      "outputs": [],
      "source": []
    },
    {
      "cell_type": "markdown",
      "metadata": {
        "id": "9DKh13C6ByQ7"
      },
      "source": [
        "# Export the data to an excel file"
      ]
    },
    {
      "cell_type": "code",
      "execution_count": null,
      "metadata": {
        "id": "KqxANLDUB9ye"
      },
      "outputs": [],
      "source": [
        "# move 'keywords' ahead follow by 'content'\n",
        "columns = khc_df_tw.columns.tolist()\n",
        "columns.insert(6, columns.pop(-3))\n",
        "khc_df_tw = khc_df_tw[columns]"
      ]
    },
    {
      "cell_type": "code",
      "execution_count": null,
      "metadata": {
        "colab": {
          "base_uri": "https://localhost:8080/"
        },
        "id": "QqvJqhrwn053",
        "outputId": "a53e6247-dfee-4c7d-e169-d7183de4ad7e"
      },
      "outputs": [
        {
          "data": {
            "text/html": [
              "\n",
              "\n",
              "  <div id=\"df-df40b531-f721-4de3-bd92-386e6fa299ae\">\n",
              "    <div class=\"colab-df-container\">\n",
              "      <div>\n",
              "<style scoped>\n",
              "    .dataframe tbody tr th:only-of-type {\n",
              "        vertical-align: middle;\n",
              "    }\n",
              "\n",
              "    .dataframe tbody tr th {\n",
              "        vertical-align: top;\n",
              "    }\n",
              "\n",
              "    .dataframe thead th {\n",
              "        text-align: right;\n",
              "    }\n",
              "</style>\n",
              "<table border=\"1\" class=\"dataframe\">\n",
              "  <thead>\n",
              "    <tr style=\"text-align: right;\">\n",
              "      <th></th>\n",
              "      <th>id</th>\n",
              "      <th>search</th>\n",
              "      <th>source</th>\n",
              "      <th>application</th>\n",
              "      <th>title</th>\n",
              "      <th>content</th>\n",
              "      <th>keywords</th>\n",
              "      <th>date</th>\n",
              "      <th>parent</th>\n",
              "      <th>language</th>\n",
              "      <th>...</th>\n",
              "      <th>biodiversity</th>\n",
              "      <th>human rights</th>\n",
              "      <th>labor practices</th>\n",
              "      <th>community and society</th>\n",
              "      <th>workforce protection</th>\n",
              "      <th>local content</th>\n",
              "      <th>post subtype</th>\n",
              "      <th>post type</th>\n",
              "      <th>flair_sentiment</th>\n",
              "      <th>flair_sentiment_score</th>\n",
              "    </tr>\n",
              "  </thead>\n",
              "  <tbody>\n",
              "    <tr>\n",
              "      <th>0</th>\n",
              "      <td>0_104815_8_1609539758241484801</td>\n",
              "      <td>104815</td>\n",
              "      <td>Twitter</td>\n",
              "      <td>Twitter for iPad</td>\n",
              "      <td>NaN</td>\n",
              "      <td>You mean \"Catsup.\" Seriously, Hunts had a br...</td>\n",
              "      <td>ketchup, catsup, heinz trademarks, heinz, hunt...</td>\n",
              "      <td>2023-01-01 13:19:16</td>\n",
              "      <td>0_104815_8_1609425583464943624</td>\n",
              "      <td>en</td>\n",
              "      <td>...</td>\n",
              "      <td>NaN</td>\n",
              "      <td>NaN</td>\n",
              "      <td>NaN</td>\n",
              "      <td>NaN</td>\n",
              "      <td>NaN</td>\n",
              "      <td>NaN</td>\n",
              "      <td>reply</td>\n",
              "      <td>engagement</td>\n",
              "      <td>negative</td>\n",
              "      <td>0.759982</td>\n",
              "    </tr>\n",
              "    <tr>\n",
              "      <th>1</th>\n",
              "      <td>0_104815_8_1609589331206836224</td>\n",
              "      <td>104815</td>\n",
              "      <td>Twitter</td>\n",
              "      <td>Twitter for iPhone</td>\n",
              "      <td>NaN</td>\n",
              "      <td>I smell a charity stream here…Each mileston...</td>\n",
              "      <td>heinz beans, different heinz beans product, he...</td>\n",
              "      <td>2023-01-01 16:36:15</td>\n",
              "      <td>0_104815_8_1609588968877883393</td>\n",
              "      <td>en</td>\n",
              "      <td>...</td>\n",
              "      <td>NaN</td>\n",
              "      <td>NaN</td>\n",
              "      <td>NaN</td>\n",
              "      <td>NaN</td>\n",
              "      <td>NaN</td>\n",
              "      <td>NaN</td>\n",
              "      <td>reply</td>\n",
              "      <td>engagement</td>\n",
              "      <td>positive</td>\n",
              "      <td>0.952374</td>\n",
              "    </tr>\n",
              "    <tr>\n",
              "      <th>2</th>\n",
              "      <td>0_104815_8_1609705628557275136</td>\n",
              "      <td>104815</td>\n",
              "      <td>Twitter</td>\n",
              "      <td>Twitter for iPhone</td>\n",
              "      <td>NaN</td>\n",
              "      <td>if anyone wants to get  fired up ask them abou...</td>\n",
              "      <td>heinz plastic, heinz, kit, plastic, anyone</td>\n",
              "      <td>2023-01-02 00:18:23</td>\n",
              "      <td>0</td>\n",
              "      <td>en</td>\n",
              "      <td>...</td>\n",
              "      <td>NaN</td>\n",
              "      <td>NaN</td>\n",
              "      <td>NaN</td>\n",
              "      <td>NaN</td>\n",
              "      <td>NaN</td>\n",
              "      <td>NaN</td>\n",
              "      <td>original post</td>\n",
              "      <td>post</td>\n",
              "      <td>positive</td>\n",
              "      <td>0.927865</td>\n",
              "    </tr>\n",
              "    <tr>\n",
              "      <th>3</th>\n",
              "      <td>0_104815_8_1609732418335899651</td>\n",
              "      <td>104815</td>\n",
              "      <td>Twitter</td>\n",
              "      <td>Twitter for Android</td>\n",
              "      <td>NaN</td>\n",
              "      <td>just so you know, I work in a supermarket and ...</td>\n",
              "      <td>plastic free packaging, heinz beans, packaging...</td>\n",
              "      <td>2023-01-02 02:04:50</td>\n",
              "      <td>0</td>\n",
              "      <td>en</td>\n",
              "      <td>...</td>\n",
              "      <td>NaN</td>\n",
              "      <td>NaN</td>\n",
              "      <td>NaN</td>\n",
              "      <td>NaN</td>\n",
              "      <td>NaN</td>\n",
              "      <td>NaN</td>\n",
              "      <td>original post</td>\n",
              "      <td>post</td>\n",
              "      <td>negative</td>\n",
              "      <td>0.988997</td>\n",
              "    </tr>\n",
              "    <tr>\n",
              "      <th>4</th>\n",
              "      <td>0_104815_8_1609742063314309120</td>\n",
              "      <td>104815</td>\n",
              "      <td>Twitter</td>\n",
              "      <td>Twitter Web App</td>\n",
              "      <td>NaN</td>\n",
              "      <td>So hard to believe Velveeta Voldemort suppo...</td>\n",
              "      <td>kevin mccarthy, velveeta voldemort, own party,...</td>\n",
              "      <td>2023-01-02 02:43:10</td>\n",
              "      <td>0_104815_8_1609735600881504257</td>\n",
              "      <td>en</td>\n",
              "      <td>...</td>\n",
              "      <td>NaN</td>\n",
              "      <td>NaN</td>\n",
              "      <td>NaN</td>\n",
              "      <td>NaN</td>\n",
              "      <td>NaN</td>\n",
              "      <td>NaN</td>\n",
              "      <td>reply</td>\n",
              "      <td>engagement</td>\n",
              "      <td>negative</td>\n",
              "      <td>0.937185</td>\n",
              "    </tr>\n",
              "  </tbody>\n",
              "</table>\n",
              "<p>5 rows × 67 columns</p>\n",
              "</div>\n",
              "      <button class=\"colab-df-convert\" onclick=\"convertToInteractive('df-df40b531-f721-4de3-bd92-386e6fa299ae')\"\n",
              "              title=\"Convert this dataframe to an interactive table.\"\n",
              "              style=\"display:none;\">\n",
              "\n",
              "  <svg xmlns=\"http://www.w3.org/2000/svg\" height=\"24px\"viewBox=\"0 0 24 24\"\n",
              "       width=\"24px\">\n",
              "    <path d=\"M0 0h24v24H0V0z\" fill=\"none\"/>\n",
              "    <path d=\"M18.56 5.44l.94 2.06.94-2.06 2.06-.94-2.06-.94-.94-2.06-.94 2.06-2.06.94zm-11 1L8.5 8.5l.94-2.06 2.06-.94-2.06-.94L8.5 2.5l-.94 2.06-2.06.94zm10 10l.94 2.06.94-2.06 2.06-.94-2.06-.94-.94-2.06-.94 2.06-2.06.94z\"/><path d=\"M17.41 7.96l-1.37-1.37c-.4-.4-.92-.59-1.43-.59-.52 0-1.04.2-1.43.59L10.3 9.45l-7.72 7.72c-.78.78-.78 2.05 0 2.83L4 21.41c.39.39.9.59 1.41.59.51 0 1.02-.2 1.41-.59l7.78-7.78 2.81-2.81c.8-.78.8-2.07 0-2.86zM5.41 20L4 18.59l7.72-7.72 1.47 1.35L5.41 20z\"/>\n",
              "  </svg>\n",
              "      </button>\n",
              "\n",
              "\n",
              "\n",
              "    <div id=\"df-c399f59b-9979-4c1e-b1f8-1b81113fe395\">\n",
              "      <button class=\"colab-df-quickchart\" onclick=\"quickchart('df-c399f59b-9979-4c1e-b1f8-1b81113fe395')\"\n",
              "              title=\"Suggest charts.\"\n",
              "              style=\"display:none;\">\n",
              "\n",
              "<svg xmlns=\"http://www.w3.org/2000/svg\" height=\"24px\"viewBox=\"0 0 24 24\"\n",
              "     width=\"24px\">\n",
              "    <g>\n",
              "        <path d=\"M19 3H5c-1.1 0-2 .9-2 2v14c0 1.1.9 2 2 2h14c1.1 0 2-.9 2-2V5c0-1.1-.9-2-2-2zM9 17H7v-7h2v7zm4 0h-2V7h2v10zm4 0h-2v-4h2v4z\"/>\n",
              "    </g>\n",
              "</svg>\n",
              "      </button>\n",
              "    </div>\n",
              "\n",
              "<style>\n",
              "  .colab-df-quickchart {\n",
              "    background-color: #E8F0FE;\n",
              "    border: none;\n",
              "    border-radius: 50%;\n",
              "    cursor: pointer;\n",
              "    display: none;\n",
              "    fill: #1967D2;\n",
              "    height: 32px;\n",
              "    padding: 0 0 0 0;\n",
              "    width: 32px;\n",
              "  }\n",
              "\n",
              "  .colab-df-quickchart:hover {\n",
              "    background-color: #E2EBFA;\n",
              "    box-shadow: 0px 1px 2px rgba(60, 64, 67, 0.3), 0px 1px 3px 1px rgba(60, 64, 67, 0.15);\n",
              "    fill: #174EA6;\n",
              "  }\n",
              "\n",
              "  [theme=dark] .colab-df-quickchart {\n",
              "    background-color: #3B4455;\n",
              "    fill: #D2E3FC;\n",
              "  }\n",
              "\n",
              "  [theme=dark] .colab-df-quickchart:hover {\n",
              "    background-color: #434B5C;\n",
              "    box-shadow: 0px 1px 3px 1px rgba(0, 0, 0, 0.15);\n",
              "    filter: drop-shadow(0px 1px 2px rgba(0, 0, 0, 0.3));\n",
              "    fill: #FFFFFF;\n",
              "  }\n",
              "</style>\n",
              "\n",
              "    <script>\n",
              "      async function quickchart(key) {\n",
              "        const containerElement = document.querySelector('#' + key);\n",
              "        const charts = await google.colab.kernel.invokeFunction(\n",
              "            'suggestCharts', [key], {});\n",
              "      }\n",
              "    </script>\n",
              "\n",
              "      <script>\n",
              "\n",
              "function displayQuickchartButton(domScope) {\n",
              "  let quickchartButtonEl =\n",
              "    domScope.querySelector('#df-c399f59b-9979-4c1e-b1f8-1b81113fe395 button.colab-df-quickchart');\n",
              "  quickchartButtonEl.style.display =\n",
              "    google.colab.kernel.accessAllowed ? 'block' : 'none';\n",
              "}\n",
              "\n",
              "        displayQuickchartButton(document);\n",
              "      </script>\n",
              "      <style>\n",
              "    .colab-df-container {\n",
              "      display:flex;\n",
              "      flex-wrap:wrap;\n",
              "      gap: 12px;\n",
              "    }\n",
              "\n",
              "    .colab-df-convert {\n",
              "      background-color: #E8F0FE;\n",
              "      border: none;\n",
              "      border-radius: 50%;\n",
              "      cursor: pointer;\n",
              "      display: none;\n",
              "      fill: #1967D2;\n",
              "      height: 32px;\n",
              "      padding: 0 0 0 0;\n",
              "      width: 32px;\n",
              "    }\n",
              "\n",
              "    .colab-df-convert:hover {\n",
              "      background-color: #E2EBFA;\n",
              "      box-shadow: 0px 1px 2px rgba(60, 64, 67, 0.3), 0px 1px 3px 1px rgba(60, 64, 67, 0.15);\n",
              "      fill: #174EA6;\n",
              "    }\n",
              "\n",
              "    [theme=dark] .colab-df-convert {\n",
              "      background-color: #3B4455;\n",
              "      fill: #D2E3FC;\n",
              "    }\n",
              "\n",
              "    [theme=dark] .colab-df-convert:hover {\n",
              "      background-color: #434B5C;\n",
              "      box-shadow: 0px 1px 3px 1px rgba(0, 0, 0, 0.15);\n",
              "      filter: drop-shadow(0px 1px 2px rgba(0, 0, 0, 0.3));\n",
              "      fill: #FFFFFF;\n",
              "    }\n",
              "  </style>\n",
              "\n",
              "      <script>\n",
              "        const buttonEl =\n",
              "          document.querySelector('#df-df40b531-f721-4de3-bd92-386e6fa299ae button.colab-df-convert');\n",
              "        buttonEl.style.display =\n",
              "          google.colab.kernel.accessAllowed ? 'block' : 'none';\n",
              "\n",
              "        async function convertToInteractive(key) {\n",
              "          const element = document.querySelector('#df-df40b531-f721-4de3-bd92-386e6fa299ae');\n",
              "          const dataTable =\n",
              "            await google.colab.kernel.invokeFunction('convertToInteractive',\n",
              "                                                     [key], {});\n",
              "          if (!dataTable) return;\n",
              "\n",
              "          const docLinkHtml = 'Like what you see? Visit the ' +\n",
              "            '<a target=\"_blank\" href=https://colab.research.google.com/notebooks/data_table.ipynb>data table notebook</a>'\n",
              "            + ' to learn more about interactive tables.';\n",
              "          element.innerHTML = '';\n",
              "          dataTable['output_type'] = 'display_data';\n",
              "          await google.colab.output.renderOutput(dataTable, element);\n",
              "          const docLink = document.createElement('div');\n",
              "          docLink.innerHTML = docLinkHtml;\n",
              "          element.appendChild(docLink);\n",
              "        }\n",
              "      </script>\n",
              "    </div>\n",
              "  </div>\n"
            ],
            "text/plain": [
              "                               id  search   source          application  \\\n",
              "0  0_104815_8_1609539758241484801  104815  Twitter     Twitter for iPad   \n",
              "1  0_104815_8_1609589331206836224  104815  Twitter   Twitter for iPhone   \n",
              "2  0_104815_8_1609705628557275136  104815  Twitter   Twitter for iPhone   \n",
              "3  0_104815_8_1609732418335899651  104815  Twitter  Twitter for Android   \n",
              "4  0_104815_8_1609742063314309120  104815  Twitter      Twitter Web App   \n",
              "\n",
              "   title                                            content  \\\n",
              "0    NaN    You mean \"Catsup.\" Seriously, Hunts had a br...   \n",
              "1    NaN     I smell a charity stream here…Each mileston...   \n",
              "2    NaN  if anyone wants to get  fired up ask them abou...   \n",
              "3    NaN  just so you know, I work in a supermarket and ...   \n",
              "4    NaN     So hard to believe Velveeta Voldemort suppo...   \n",
              "\n",
              "                                            keywords                date  \\\n",
              "0  ketchup, catsup, heinz trademarks, heinz, hunt... 2023-01-01 13:19:16   \n",
              "1  heinz beans, different heinz beans product, he... 2023-01-01 16:36:15   \n",
              "2         heinz plastic, heinz, kit, plastic, anyone 2023-01-02 00:18:23   \n",
              "3  plastic free packaging, heinz beans, packaging... 2023-01-02 02:04:50   \n",
              "4  kevin mccarthy, velveeta voldemort, own party,... 2023-01-02 02:43:10   \n",
              "\n",
              "                           parent language  ... biodiversity human rights  \\\n",
              "0  0_104815_8_1609425583464943624       en  ...          NaN          NaN   \n",
              "1  0_104815_8_1609588968877883393       en  ...          NaN          NaN   \n",
              "2                               0       en  ...          NaN          NaN   \n",
              "3                               0       en  ...          NaN          NaN   \n",
              "4  0_104815_8_1609735600881504257       en  ...          NaN          NaN   \n",
              "\n",
              "  labor practices  community and society  workforce protection local content  \\\n",
              "0             NaN                    NaN                   NaN           NaN   \n",
              "1             NaN                    NaN                   NaN           NaN   \n",
              "2             NaN                    NaN                   NaN           NaN   \n",
              "3             NaN                    NaN                   NaN           NaN   \n",
              "4             NaN                    NaN                   NaN           NaN   \n",
              "\n",
              "    post subtype   post type  flair_sentiment flair_sentiment_score  \n",
              "0          reply  engagement         negative              0.759982  \n",
              "1          reply  engagement         positive              0.952374  \n",
              "2  original post        post         positive              0.927865  \n",
              "3  original post        post         negative              0.988997  \n",
              "4          reply  engagement         negative              0.937185  \n",
              "\n",
              "[5 rows x 67 columns]"
            ]
          },
          "execution_count": 143,
          "metadata": {},
          "output_type": "execute_result"
        }
      ],
      "source": [
        "khc_df_tw.head()"
      ]
    },
    {
      "cell_type": "code",
      "execution_count": null,
      "metadata": {
        "id": "P2qj81Mifhdn"
      },
      "outputs": [],
      "source": [
        "# save to new excel file\n",
        "khc_df_tw.to_excel('/content/drive/MyDrive/Zeno/khc_H1_updated0804.xlsx', index=False)"
      ]
    }
  ],
  "metadata": {
    "colab": {
      "collapsed_sections": [
        "fwIK2M8xScrD",
        "cTz9ddCdH51H",
        "HeOLs4rX8g7i",
        "0UWRjlpdBKer",
        "9DKh13C6ByQ7"
      ],
      "provenance": [],
      "include_colab_link": true
    },
    "kernelspec": {
      "display_name": "Python 3",
      "name": "python3"
    },
    "language_info": {
      "name": "python"
    }
  },
  "nbformat": 4,
  "nbformat_minor": 0
}