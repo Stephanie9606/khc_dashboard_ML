{
  "nbformat": 4,
  "nbformat_minor": 0,
  "metadata": {
    "colab": {
      "provenance": [],
      "collapsed_sections": [
        "CCDVSsEdojyV",
        "HeOLs4rX8g7i",
        "pOL9JUUcFZR8"
      ],
      "include_colab_link": true
    },
    "kernelspec": {
      "name": "python3",
      "display_name": "Python 3"
    },
    "language_info": {
      "name": "python"
    }
  },
  "cells": [
    {
      "cell_type": "markdown",
      "metadata": {
        "id": "view-in-github",
        "colab_type": "text"
      },
      "source": [
        "<a href=\"https://colab.research.google.com/github/Stephanie9606/zeno_dashboard_nlp/blob/main/zeno_khc_twitter_ngram.ipynb\" target=\"_parent\"><img src=\"https://colab.research.google.com/assets/colab-badge.svg\" alt=\"Open In Colab\"/></a>"
      ]
    },
    {
      "cell_type": "markdown",
      "source": [
        "# **KHC Dashboard Pulsar Data Testing File - Sentiment + Keywords**"
      ],
      "metadata": {
        "id": "MZKYB3Gd966l"
      }
    },
    {
      "cell_type": "code",
      "source": [
        "import pandas as pd\n",
        "import numpy as np"
      ],
      "metadata": {
        "id": "f9bFluJqSX5F"
      },
      "execution_count": null,
      "outputs": []
    },
    {
      "cell_type": "code",
      "source": [
        "from google.colab import drive\n",
        "drive.mount('/content/drive')"
      ],
      "metadata": {
        "colab": {
          "base_uri": "https://localhost:8080/"
        },
        "id": "8uRrImaAWGXF",
        "outputId": "e9649444-4ff2-4a0a-e424-6afd804a69b1"
      },
      "execution_count": null,
      "outputs": [
        {
          "output_type": "stream",
          "name": "stdout",
          "text": [
            "Mounted at /content/drive\n"
          ]
        }
      ]
    },
    {
      "cell_type": "markdown",
      "source": [
        "# Data Cleaning"
      ],
      "metadata": {
        "id": "fwIK2M8xScrD"
      }
    },
    {
      "cell_type": "markdown",
      "source": [
        "--- KHC H1 Data Jan - Jun 2023 ---"
      ],
      "metadata": {
        "id": "7xrgTmeGVt6t"
      }
    },
    {
      "cell_type": "code",
      "source": [
        "khc_df = pd.read_excel('/content/drive/MyDrive/Zeno/khc_H1_twitter_nodirt.xlsx')"
      ],
      "metadata": {
        "id": "QZtr06n3U-54"
      },
      "execution_count": null,
      "outputs": []
    },
    {
      "cell_type": "code",
      "source": [
        "# delete web link at the end of content\n",
        "khc_df['content'] = khc_df['content'].str.split('https').str[0].str.strip()"
      ],
      "metadata": {
        "id": "8Ft7BUy4cJjM"
      },
      "execution_count": null,
      "outputs": []
    },
    {
      "cell_type": "code",
      "source": [
        "# check num of rows\n",
        "khc_df.shape[0]"
      ],
      "metadata": {
        "colab": {
          "base_uri": "https://localhost:8080/"
        },
        "id": "tjnXNUVzBvwv",
        "outputId": "29b81c47-b55e-4891-b287-d438d5ee7039"
      },
      "execution_count": null,
      "outputs": [
        {
          "output_type": "execute_result",
          "data": {
            "text/plain": [
              "4185"
            ]
          },
          "metadata": {},
          "execution_count": 127
        }
      ]
    },
    {
      "cell_type": "code",
      "source": [
        "khc_df_tw = khc_df"
      ],
      "metadata": {
        "id": "mSLr2327BwAB"
      },
      "execution_count": null,
      "outputs": []
    },
    {
      "cell_type": "markdown",
      "source": [
        "--- clean @name, but keep @khc related, remove emojis only content ---"
      ],
      "metadata": {
        "id": "aFiv41Xcm0lS"
      }
    },
    {
      "cell_type": "code",
      "source": [
        "import re\n",
        "# tagged usernames to keep\n",
        "allowed_names = ['@MiracleWhip', '@KraftHeinzCo', '@CheesyVelveeta'] # self define\n",
        "\n",
        "# function to clean the content\n",
        "def clean_content(row):\n",
        "    # Use regex to replace the tagged names with empty strings\n",
        "    cleaned_content = re.sub(rf\"(?!{'|'.join(allowed_names)})@(\\w+)\", \"\", row[\"content\"])\n",
        "    return cleaned_content\n",
        "\n",
        "# apply to df 'content' column\n",
        "khc_df_tw[\"content\"] = khc_df_tw.apply(clean_content, axis=1)"
      ],
      "metadata": {
        "id": "mjkpGZlCmyNy"
      },
      "execution_count": null,
      "outputs": []
    },
    {
      "cell_type": "code",
      "source": [
        "# rm empty content\n",
        "khc_df_tw = khc_df_tw[khc_df_tw[\"content\"] != \"\"]"
      ],
      "metadata": {
        "id": "aaB6kmjCxh1A"
      },
      "execution_count": null,
      "outputs": []
    },
    {
      "cell_type": "code",
      "source": [
        "#!pip3 install emoji==1.7.0"
      ],
      "metadata": {
        "id": "Tnnh44LndTPM"
      },
      "execution_count": null,
      "outputs": []
    },
    {
      "cell_type": "code",
      "source": [
        "# rm content contains only emoji\n",
        "import emoji\n",
        "def contains_only_emojis(text):\n",
        "    return all(char in emoji.UNICODE_EMOJI['en'] or char.isspace() for char in text)\n",
        "\n",
        "# Filter and delete rows where the 'content' column contains only emojis\n",
        "khc_df_tw = khc_df_tw[~khc_df_tw['content'].apply(contains_only_emojis)]"
      ],
      "metadata": {
        "id": "Tj5UP5FtVZaJ"
      },
      "execution_count": null,
      "outputs": []
    },
    {
      "cell_type": "code",
      "source": [
        "# rm rows with duplicated contents\n",
        "khc_df_tw = khc_df_tw[~khc_df_tw.duplicated(subset='content', keep=False)]"
      ],
      "metadata": {
        "id": "tvrv7_LiB31w"
      },
      "execution_count": null,
      "outputs": []
    },
    {
      "cell_type": "code",
      "source": [
        "khc_df_tw.shape[0]"
      ],
      "metadata": {
        "colab": {
          "base_uri": "https://localhost:8080/"
        },
        "id": "Or18CMPqLVzZ",
        "outputId": "74f8bd3b-876e-435f-bec6-28c408188fd5"
      },
      "execution_count": null,
      "outputs": [
        {
          "output_type": "execute_result",
          "data": {
            "text/plain": [
              "2912"
            ]
          },
          "metadata": {},
          "execution_count": 135
        }
      ]
    },
    {
      "cell_type": "code",
      "source": [
        "# run pulsar query again, extract relevant content (security -> food security, too many noise)\n",
        "keywords = [\"Kraft Heinz\", \"KHC\", \"Kraft Mac and Cheese\", \"Kraft Singles\", \"Miracle Whip\", \"Heinz\", \"Heinz Ketchup\", \"Lunchables\", \"Velveeta\"]\n",
        "topics = [\"supply chain\", \"supply\", \"food security\", \"supplier\", \"recycled\", \"recycle\", \"recycling\", \"single-use\", \"plastic\", \"package\", \"packaging\", \"waste\", \"environment\", \"nature\", \"product\", \"quality\", \"planet\", \"crisis\", \"challenge\", \"problem\", \"criticism\", \"reputation\", \"image\"]\n",
        "\n",
        "mask = khc_df_tw['content'].str.contains('|'.join(keywords), case=False) & khc_df_tw['content'].str.contains('|'.join(topics), case=False)\n",
        "\n",
        "khc_df_tw = khc_df_tw[mask]"
      ],
      "metadata": {
        "id": "Uue5kO6jACE6"
      },
      "execution_count": null,
      "outputs": []
    },
    {
      "cell_type": "code",
      "source": [
        "khc_df_tw.head()"
      ],
      "metadata": {
        "id": "USSLgpcNd3OQ"
      },
      "execution_count": null,
      "outputs": []
    },
    {
      "cell_type": "code",
      "source": [
        "# save to new excel file\n",
        "khc_df_tw.to_excel('/content/drive/MyDrive/Zeno/khc_H1_twitter_clean_nodirt.xlsx', index=False)"
      ],
      "metadata": {
        "id": "w3PbT0uo8zvC"
      },
      "execution_count": null,
      "outputs": []
    },
    {
      "cell_type": "markdown",
      "source": [
        "# Directly read cleaned file"
      ],
      "metadata": {
        "id": "raM_Z6_cPlsm"
      }
    },
    {
      "cell_type": "code",
      "source": [
        "khc_df_tw = pd.read_excel('/content/drive/MyDrive/Zeno/khc_H1_twitter_clean_nodirt.xlsx')"
      ],
      "metadata": {
        "id": "Dcj6cqw4Ezua"
      },
      "execution_count": null,
      "outputs": []
    },
    {
      "cell_type": "markdown",
      "source": [
        "# Keywords: KeyBert"
      ],
      "metadata": {
        "id": "iSBlbmfdoR9Y"
      }
    },
    {
      "cell_type": "markdown",
      "source": [
        "--- 2912 rows takes approximately 18 mins ---"
      ],
      "metadata": {
        "id": "PwZbuBQWAdO5"
      }
    },
    {
      "cell_type": "code",
      "execution_count": null,
      "metadata": {
        "id": "VhNT4Qqx90EB"
      },
      "outputs": [],
      "source": [
        "#!pip3 install keybert\n",
        "from keybert import KeyBERT"
      ]
    },
    {
      "cell_type": "code",
      "source": [
        "# enhance performance instead of n-gram\n",
        "#!pip3 install keyphrase-vectorizers\n",
        "#from keyphrase_vectorizers import KeyphraseCountVectorizer"
      ],
      "metadata": {
        "id": "Q-5RYR35QEA4"
      },
      "execution_count": null,
      "outputs": []
    },
    {
      "cell_type": "code",
      "source": [
        "# init default vectorizer\n",
        "#vectorizer = KeyphraseCountVectorizer()\n",
        "#print(vectorizer.get_params()) # print parameters\n",
        "\n",
        "# specify model\n",
        "kw_model = KeyBERT('all-MiniLM-L12-v2')\n",
        "# specify number of keywords to extract\n",
        "n_keywords = 10\n",
        "ngram = 3  # specify ngram of keywords"
      ],
      "metadata": {
        "id": "FeQoJ25bor6n"
      },
      "execution_count": null,
      "outputs": []
    },
    {
      "cell_type": "code",
      "source": [
        "# function to extract keywords for a batch of rows\n",
        "def get_keywords_batch(rows):\n",
        "    contents = rows['content'].tolist()\n",
        "    keywords_batch = kw_model.extract_keywords(contents, stop_words='english', highlight=False, top_n=n_keywords, keyphrase_ngram_range=(1, ngram), diversity=0.2)\n",
        "    return [[keyword[0] for keyword in keywords] for keywords in keywords_batch]"
      ],
      "metadata": {
        "id": "FDJ_aFCv981-"
      },
      "execution_count": null,
      "outputs": []
    },
    {
      "cell_type": "code",
      "source": [
        "# split the data into batches (higher effieciency)\n",
        "batch_size = 100\n",
        "batches = [khc_df_tw[i:i+batch_size] for i in range(0, len(khc_df_tw), batch_size)]"
      ],
      "metadata": {
        "id": "acmVAkuz988n"
      },
      "execution_count": null,
      "outputs": []
    },
    {
      "cell_type": "code",
      "source": [
        "# extract keywords for each batch and concatenate the results\n",
        "keyword_lists = []\n",
        "for batch in batches:\n",
        "    keyword_lists.extend(get_keywords_batch(batch))"
      ],
      "metadata": {
        "id": "C54lJyhf99Ap"
      },
      "execution_count": null,
      "outputs": []
    },
    {
      "cell_type": "code",
      "source": [
        "# add the keyword lists as a new column to the DataFrame\n",
        "khc_df_tw['keywords'] = keyword_lists"
      ],
      "metadata": {
        "id": "bvdGPXaS99FU"
      },
      "execution_count": null,
      "outputs": []
    },
    {
      "cell_type": "code",
      "source": [
        "# format to better fit in Excel\n",
        "khc_df_tw['keywords'] = khc_df_tw['keywords'].apply(lambda x: ', '.join(x))"
      ],
      "metadata": {
        "id": "MkkUJxRtr91c"
      },
      "execution_count": null,
      "outputs": []
    },
    {
      "cell_type": "markdown",
      "source": [
        "# Sentiment: Flair"
      ],
      "metadata": {
        "id": "CCDVSsEdojyV"
      }
    },
    {
      "cell_type": "markdown",
      "source": [
        "--- Flair pre-trained model (non-labeled data) ---"
      ],
      "metadata": {
        "id": "m9YoiG1xqVLe"
      }
    },
    {
      "cell_type": "markdown",
      "source": [
        "--- 2912 rows takes approximately 4 mins ---"
      ],
      "metadata": {
        "id": "EUyqXxg2Gzza"
      }
    },
    {
      "cell_type": "code",
      "source": [
        "#!pip3 install flair\n",
        "from flair.models import TextClassifier\n",
        "from flair.data import Sentence\n",
        "import multiprocessing"
      ],
      "metadata": {
        "id": "x9eI-leY27td"
      },
      "execution_count": null,
      "outputs": []
    },
    {
      "cell_type": "code",
      "source": [
        "# load the classifier outside the function to avoid loading it multiple times\n",
        "classifier = TextClassifier.load('en-sentiment')"
      ],
      "metadata": {
        "id": "NL_Qh-8Y27v-"
      },
      "execution_count": null,
      "outputs": []
    },
    {
      "cell_type": "code",
      "source": [
        "# mapping from flair sentiment labels to preferred sentiment labels\n",
        "flair_to_preferred_mapping = {\n",
        "    'POSITIVE': 'positive',\n",
        "    'NEGATIVE': 'negative',\n",
        "    'NEUTRAL': 'neutral'\n",
        "}"
      ],
      "metadata": {
        "id": "fgjLF1e-27ye"
      },
      "execution_count": null,
      "outputs": []
    },
    {
      "cell_type": "code",
      "source": [
        "# function to predict sentiment and score for a list of texts\n",
        "def predict_sentiments(texts):\n",
        "    sentences = [Sentence(text) for text in texts]\n",
        "    classifier.predict(sentences)\n",
        "\n",
        "    predicted_sentiments = []\n",
        "    sentiment_scores = []\n",
        "\n",
        "    for sentence in sentences:\n",
        "        if sentence.labels:\n",
        "            sentiment = sentence.labels[0].value\n",
        "            score = sentence.labels[0].score\n",
        "        else:\n",
        "            sentiment = 'NEUTRAL'\n",
        "            score = 0.0\n",
        "\n",
        "        predicted_sentiments.append(sentiment)\n",
        "        sentiment_scores.append(score)\n",
        "\n",
        "    return [\n",
        "        (\n",
        "            flair_to_preferred_mapping.get(sentiment, 'neutral'),\n",
        "            score\n",
        "        ) for sentiment, score in zip(predicted_sentiments, sentiment_scores)\n",
        "    ]"
      ],
      "metadata": {
        "id": "h-2LkyBY270y"
      },
      "execution_count": null,
      "outputs": []
    },
    {
      "cell_type": "code",
      "source": [
        "# split the texts into chunks for parallel processing\n",
        "def chunks(lst, n):\n",
        "    for i in range(0, len(lst), n):\n",
        "        yield lst[i:i + n]"
      ],
      "metadata": {
        "id": "fjPYVKu2273P"
      },
      "execution_count": null,
      "outputs": []
    },
    {
      "cell_type": "code",
      "source": [
        "# number of CPU cores available\n",
        "num_cores = multiprocessing.cpu_count()"
      ],
      "metadata": {
        "id": "O2OOqji1275y"
      },
      "execution_count": null,
      "outputs": []
    },
    {
      "cell_type": "code",
      "source": [
        "# split the data into chunks for parallel processing\n",
        "texts_list = list(chunks(khc_df_tw['content'].tolist(), len(khc_df_tw) // num_cores))\n",
        "\n",
        "# init a pool of workers for multiprocessing\n",
        "pool = multiprocessing.Pool(processes=num_cores)\n",
        "\n",
        "# predict sentiments in parallel using multiprocessing and vectorized operations\n",
        "predicted_sentiments_list = pool.map(predict_sentiments, texts_list)\n",
        "\n",
        "# concatenate the results from all chunks into a single list\n",
        "predicted_sentiments = [sentiment for sublist in predicted_sentiments_list for sentiment in sublist]\n",
        "\n",
        "# assign the predicted sentiments and scores to df\n",
        "khc_df_tw['flair_sentiment'], khc_df_tw['flair_sentiment_score'] = zip(*predicted_sentiments)"
      ],
      "metadata": {
        "id": "pbjPO1fFyyc-"
      },
      "execution_count": null,
      "outputs": []
    },
    {
      "cell_type": "code",
      "source": [
        "khc_df_tw.head()"
      ],
      "metadata": {
        "id": "MbrO2DLP2CSN"
      },
      "execution_count": null,
      "outputs": []
    },
    {
      "cell_type": "markdown",
      "source": [
        "# Check sentiment quality"
      ],
      "metadata": {
        "id": "HeOLs4rX8g7i"
      }
    },
    {
      "cell_type": "code",
      "source": [
        "# check unique output\n",
        "khc_df_tw['flair_sentiment'].unique()"
      ],
      "metadata": {
        "colab": {
          "base_uri": "https://localhost:8080/"
        },
        "id": "r5sN90Ps8m2H",
        "outputId": "9d56d965-76be-4bc0-8aa8-ab8245b3aae9"
      },
      "execution_count": null,
      "outputs": [
        {
          "output_type": "execute_result",
          "data": {
            "text/plain": [
              "array(['negative', 'positive'], dtype=object)"
            ]
          },
          "metadata": {},
          "execution_count": 96
        }
      ]
    },
    {
      "cell_type": "code",
      "source": [
        "# check on neutral prediction\n",
        "khc_df_tw['flair_sentiment'].str.contains('neutral', case=False).any()"
      ],
      "metadata": {
        "colab": {
          "base_uri": "https://localhost:8080/"
        },
        "id": "j6HK7eDX4DQV",
        "outputId": "92ebb104-4a1a-4a77-b051-49a37a40bf82"
      },
      "execution_count": null,
      "outputs": [
        {
          "output_type": "execute_result",
          "data": {
            "text/plain": [
              "False"
            ]
          },
          "metadata": {},
          "execution_count": 97
        }
      ]
    },
    {
      "cell_type": "code",
      "source": [
        "low_df.iloc[:,[5,-2,-1]]"
      ],
      "metadata": {
        "colab": {
          "base_uri": "https://localhost:8080/",
          "height": 424
        },
        "id": "bQNV0TqolJcg",
        "outputId": "b0b28e4d-7dd1-4497-aa4a-52679fe320e8"
      },
      "execution_count": null,
      "outputs": [
        {
          "output_type": "execute_result",
          "data": {
            "text/plain": [
              "                                                 content flair_sentiment  \\\n",
              "77       Also a word of advice, if you're gonna try l...        positive   \n",
              "135                                 That first pose...🔥😋        negative   \n",
              "177    Buffett praising $COST's Kirkland brand. He st...        positive   \n",
              "193      It's your problem you took it any other way!...        negative   \n",
              "426    See More at: Hersmiles Store Find more designs...        positive   \n",
              "...                                                  ...             ...   \n",
              "35526       Sometimes! If it is quality stuff.Not Heinz.        negative   \n",
              "36312   This looks like a food security marker.Heinz ...        negative   \n",
              "36365  Freelance creative director, Elliott Starr, wa...        negative   \n",
              "36949   For real.  You'd have to challenge in court (...        negative   \n",
              "37000   Cause whet is de problem with a lil miracle w...        negative   \n",
              "\n",
              "       flair_sentiment_score  \n",
              "77                  0.620976  \n",
              "135                 0.568740  \n",
              "177                 0.500105  \n",
              "193                 0.657860  \n",
              "426                 0.657918  \n",
              "...                      ...  \n",
              "35526               0.527366  \n",
              "36312               0.562701  \n",
              "36365               0.637750  \n",
              "36949               0.585367  \n",
              "37000               0.678862  \n",
              "\n",
              "[230 rows x 3 columns]"
            ],
            "text/html": [
              "\n",
              "\n",
              "  <div id=\"df-cc6b75b6-9526-4009-a412-1ab39341d77e\">\n",
              "    <div class=\"colab-df-container\">\n",
              "      <div>\n",
              "<style scoped>\n",
              "    .dataframe tbody tr th:only-of-type {\n",
              "        vertical-align: middle;\n",
              "    }\n",
              "\n",
              "    .dataframe tbody tr th {\n",
              "        vertical-align: top;\n",
              "    }\n",
              "\n",
              "    .dataframe thead th {\n",
              "        text-align: right;\n",
              "    }\n",
              "</style>\n",
              "<table border=\"1\" class=\"dataframe\">\n",
              "  <thead>\n",
              "    <tr style=\"text-align: right;\">\n",
              "      <th></th>\n",
              "      <th>content</th>\n",
              "      <th>flair_sentiment</th>\n",
              "      <th>flair_sentiment_score</th>\n",
              "    </tr>\n",
              "  </thead>\n",
              "  <tbody>\n",
              "    <tr>\n",
              "      <th>77</th>\n",
              "      <td>Also a word of advice, if you're gonna try l...</td>\n",
              "      <td>positive</td>\n",
              "      <td>0.620976</td>\n",
              "    </tr>\n",
              "    <tr>\n",
              "      <th>135</th>\n",
              "      <td>That first pose...🔥😋</td>\n",
              "      <td>negative</td>\n",
              "      <td>0.568740</td>\n",
              "    </tr>\n",
              "    <tr>\n",
              "      <th>177</th>\n",
              "      <td>Buffett praising $COST's Kirkland brand. He st...</td>\n",
              "      <td>positive</td>\n",
              "      <td>0.500105</td>\n",
              "    </tr>\n",
              "    <tr>\n",
              "      <th>193</th>\n",
              "      <td>It's your problem you took it any other way!...</td>\n",
              "      <td>negative</td>\n",
              "      <td>0.657860</td>\n",
              "    </tr>\n",
              "    <tr>\n",
              "      <th>426</th>\n",
              "      <td>See More at: Hersmiles Store Find more designs...</td>\n",
              "      <td>positive</td>\n",
              "      <td>0.657918</td>\n",
              "    </tr>\n",
              "    <tr>\n",
              "      <th>...</th>\n",
              "      <td>...</td>\n",
              "      <td>...</td>\n",
              "      <td>...</td>\n",
              "    </tr>\n",
              "    <tr>\n",
              "      <th>35526</th>\n",
              "      <td>Sometimes! If it is quality stuff.Not Heinz.</td>\n",
              "      <td>negative</td>\n",
              "      <td>0.527366</td>\n",
              "    </tr>\n",
              "    <tr>\n",
              "      <th>36312</th>\n",
              "      <td>This looks like a food security marker.Heinz ...</td>\n",
              "      <td>negative</td>\n",
              "      <td>0.562701</td>\n",
              "    </tr>\n",
              "    <tr>\n",
              "      <th>36365</th>\n",
              "      <td>Freelance creative director, Elliott Starr, wa...</td>\n",
              "      <td>negative</td>\n",
              "      <td>0.637750</td>\n",
              "    </tr>\n",
              "    <tr>\n",
              "      <th>36949</th>\n",
              "      <td>For real.  You'd have to challenge in court (...</td>\n",
              "      <td>negative</td>\n",
              "      <td>0.585367</td>\n",
              "    </tr>\n",
              "    <tr>\n",
              "      <th>37000</th>\n",
              "      <td>Cause whet is de problem with a lil miracle w...</td>\n",
              "      <td>negative</td>\n",
              "      <td>0.678862</td>\n",
              "    </tr>\n",
              "  </tbody>\n",
              "</table>\n",
              "<p>230 rows × 3 columns</p>\n",
              "</div>\n",
              "      <button class=\"colab-df-convert\" onclick=\"convertToInteractive('df-cc6b75b6-9526-4009-a412-1ab39341d77e')\"\n",
              "              title=\"Convert this dataframe to an interactive table.\"\n",
              "              style=\"display:none;\">\n",
              "\n",
              "  <svg xmlns=\"http://www.w3.org/2000/svg\" height=\"24px\"viewBox=\"0 0 24 24\"\n",
              "       width=\"24px\">\n",
              "    <path d=\"M0 0h24v24H0V0z\" fill=\"none\"/>\n",
              "    <path d=\"M18.56 5.44l.94 2.06.94-2.06 2.06-.94-2.06-.94-.94-2.06-.94 2.06-2.06.94zm-11 1L8.5 8.5l.94-2.06 2.06-.94-2.06-.94L8.5 2.5l-.94 2.06-2.06.94zm10 10l.94 2.06.94-2.06 2.06-.94-2.06-.94-.94-2.06-.94 2.06-2.06.94z\"/><path d=\"M17.41 7.96l-1.37-1.37c-.4-.4-.92-.59-1.43-.59-.52 0-1.04.2-1.43.59L10.3 9.45l-7.72 7.72c-.78.78-.78 2.05 0 2.83L4 21.41c.39.39.9.59 1.41.59.51 0 1.02-.2 1.41-.59l7.78-7.78 2.81-2.81c.8-.78.8-2.07 0-2.86zM5.41 20L4 18.59l7.72-7.72 1.47 1.35L5.41 20z\"/>\n",
              "  </svg>\n",
              "      </button>\n",
              "\n",
              "\n",
              "\n",
              "    <div id=\"df-c6437e02-5218-4119-aa90-701b4465d5ba\">\n",
              "      <button class=\"colab-df-quickchart\" onclick=\"quickchart('df-c6437e02-5218-4119-aa90-701b4465d5ba')\"\n",
              "              title=\"Suggest charts.\"\n",
              "              style=\"display:none;\">\n",
              "\n",
              "<svg xmlns=\"http://www.w3.org/2000/svg\" height=\"24px\"viewBox=\"0 0 24 24\"\n",
              "     width=\"24px\">\n",
              "    <g>\n",
              "        <path d=\"M19 3H5c-1.1 0-2 .9-2 2v14c0 1.1.9 2 2 2h14c1.1 0 2-.9 2-2V5c0-1.1-.9-2-2-2zM9 17H7v-7h2v7zm4 0h-2V7h2v10zm4 0h-2v-4h2v4z\"/>\n",
              "    </g>\n",
              "</svg>\n",
              "      </button>\n",
              "    </div>\n",
              "\n",
              "<style>\n",
              "  .colab-df-quickchart {\n",
              "    background-color: #E8F0FE;\n",
              "    border: none;\n",
              "    border-radius: 50%;\n",
              "    cursor: pointer;\n",
              "    display: none;\n",
              "    fill: #1967D2;\n",
              "    height: 32px;\n",
              "    padding: 0 0 0 0;\n",
              "    width: 32px;\n",
              "  }\n",
              "\n",
              "  .colab-df-quickchart:hover {\n",
              "    background-color: #E2EBFA;\n",
              "    box-shadow: 0px 1px 2px rgba(60, 64, 67, 0.3), 0px 1px 3px 1px rgba(60, 64, 67, 0.15);\n",
              "    fill: #174EA6;\n",
              "  }\n",
              "\n",
              "  [theme=dark] .colab-df-quickchart {\n",
              "    background-color: #3B4455;\n",
              "    fill: #D2E3FC;\n",
              "  }\n",
              "\n",
              "  [theme=dark] .colab-df-quickchart:hover {\n",
              "    background-color: #434B5C;\n",
              "    box-shadow: 0px 1px 3px 1px rgba(0, 0, 0, 0.15);\n",
              "    filter: drop-shadow(0px 1px 2px rgba(0, 0, 0, 0.3));\n",
              "    fill: #FFFFFF;\n",
              "  }\n",
              "</style>\n",
              "\n",
              "    <script>\n",
              "      async function quickchart(key) {\n",
              "        const containerElement = document.querySelector('#' + key);\n",
              "        const charts = await google.colab.kernel.invokeFunction(\n",
              "            'suggestCharts', [key], {});\n",
              "      }\n",
              "    </script>\n",
              "\n",
              "      <script>\n",
              "\n",
              "function displayQuickchartButton(domScope) {\n",
              "  let quickchartButtonEl =\n",
              "    domScope.querySelector('#df-c6437e02-5218-4119-aa90-701b4465d5ba button.colab-df-quickchart');\n",
              "  quickchartButtonEl.style.display =\n",
              "    google.colab.kernel.accessAllowed ? 'block' : 'none';\n",
              "}\n",
              "\n",
              "        displayQuickchartButton(document);\n",
              "      </script>\n",
              "      <style>\n",
              "    .colab-df-container {\n",
              "      display:flex;\n",
              "      flex-wrap:wrap;\n",
              "      gap: 12px;\n",
              "    }\n",
              "\n",
              "    .colab-df-convert {\n",
              "      background-color: #E8F0FE;\n",
              "      border: none;\n",
              "      border-radius: 50%;\n",
              "      cursor: pointer;\n",
              "      display: none;\n",
              "      fill: #1967D2;\n",
              "      height: 32px;\n",
              "      padding: 0 0 0 0;\n",
              "      width: 32px;\n",
              "    }\n",
              "\n",
              "    .colab-df-convert:hover {\n",
              "      background-color: #E2EBFA;\n",
              "      box-shadow: 0px 1px 2px rgba(60, 64, 67, 0.3), 0px 1px 3px 1px rgba(60, 64, 67, 0.15);\n",
              "      fill: #174EA6;\n",
              "    }\n",
              "\n",
              "    [theme=dark] .colab-df-convert {\n",
              "      background-color: #3B4455;\n",
              "      fill: #D2E3FC;\n",
              "    }\n",
              "\n",
              "    [theme=dark] .colab-df-convert:hover {\n",
              "      background-color: #434B5C;\n",
              "      box-shadow: 0px 1px 3px 1px rgba(0, 0, 0, 0.15);\n",
              "      filter: drop-shadow(0px 1px 2px rgba(0, 0, 0, 0.3));\n",
              "      fill: #FFFFFF;\n",
              "    }\n",
              "  </style>\n",
              "\n",
              "      <script>\n",
              "        const buttonEl =\n",
              "          document.querySelector('#df-cc6b75b6-9526-4009-a412-1ab39341d77e button.colab-df-convert');\n",
              "        buttonEl.style.display =\n",
              "          google.colab.kernel.accessAllowed ? 'block' : 'none';\n",
              "\n",
              "        async function convertToInteractive(key) {\n",
              "          const element = document.querySelector('#df-cc6b75b6-9526-4009-a412-1ab39341d77e');\n",
              "          const dataTable =\n",
              "            await google.colab.kernel.invokeFunction('convertToInteractive',\n",
              "                                                     [key], {});\n",
              "          if (!dataTable) return;\n",
              "\n",
              "          const docLinkHtml = 'Like what you see? Visit the ' +\n",
              "            '<a target=\"_blank\" href=https://colab.research.google.com/notebooks/data_table.ipynb>data table notebook</a>'\n",
              "            + ' to learn more about interactive tables.';\n",
              "          element.innerHTML = '';\n",
              "          dataTable['output_type'] = 'display_data';\n",
              "          await google.colab.output.renderOutput(dataTable, element);\n",
              "          const docLink = document.createElement('div');\n",
              "          docLink.innerHTML = docLinkHtml;\n",
              "          element.appendChild(docLink);\n",
              "        }\n",
              "      </script>\n",
              "    </div>\n",
              "  </div>\n"
            ]
          },
          "metadata": {},
          "execution_count": 67
        }
      ]
    },
    {
      "cell_type": "code",
      "source": [
        "# if sentiment score < 0.7 --> set to neutral\n",
        "#khc_df_tw.loc[khc_df_tw['flair_sentiment_score'] < 0.7, 'flair_sentiment'] = 'neutral'"
      ],
      "metadata": {
        "id": "jjUXdf6tmUN0"
      },
      "execution_count": null,
      "outputs": []
    },
    {
      "cell_type": "markdown",
      "source": [
        "# Sentiment: TwitterBERT"
      ],
      "metadata": {
        "id": "pOL9JUUcFZR8"
      }
    },
    {
      "cell_type": "code",
      "source": [
        "khc_df_tw = pd.read_excel('/content/drive/MyDrive/Zeno/khc_H1_twitter_0808.xlsx')"
      ],
      "metadata": {
        "id": "G8y6uREOrBwH"
      },
      "execution_count": null,
      "outputs": []
    },
    {
      "cell_type": "code",
      "source": [
        "khc_twbert_test = khc_df_tw.iloc[:100,:]"
      ],
      "metadata": {
        "id": "LSp_ISEVqhZa"
      },
      "execution_count": null,
      "outputs": []
    },
    {
      "cell_type": "code",
      "source": [
        "from transformers import AutoModelForSequenceClassification, AutoTokenizer, AutoConfig\n",
        "from scipy.special import softmax\n",
        "\n",
        "MODEL = \"cardiffnlp/twitter-roberta-base-sentiment-latest\"\n",
        "tokenizer = AutoTokenizer.from_pretrained(MODEL)\n",
        "config = AutoConfig.from_pretrained(MODEL)\n",
        "model = AutoModelForSequenceClassification.from_pretrained(MODEL)"
      ],
      "metadata": {
        "id": "X9C0-6CdnZdr"
      },
      "execution_count": null,
      "outputs": []
    },
    {
      "cell_type": "code",
      "source": [
        "sentiments = []  # Initialize an empty list to store sentiment analysis results\n",
        "for text in khc_twbert_test['content']:  # Loop through each text in the 'content' column of the DataFrame\n",
        "    encoded_input = tokenizer(text, return_tensors='pt')\n",
        "    output = model(**encoded_input)\n",
        "    scores = output[0][0].detach().numpy()\n",
        "    scores = softmax(scores)\n",
        "    predicted_sentiment = int(scores.argmax())  # Convert the index of the max score to the sentiment label\n",
        "    sentiments.append(predicted_sentiment)\n",
        "\n",
        "# Add the sentiment analysis results to a new column in the DataFrame\n",
        "khc_twbert_test['twbert_sentiment'] = sentiments"
      ],
      "metadata": {
        "colab": {
          "base_uri": "https://localhost:8080/"
        },
        "id": "tfvkjeiFqPrv",
        "outputId": "d701ffce-2f5c-4410-c0cd-fb63ba0a9387"
      },
      "execution_count": null,
      "outputs": [
        {
          "output_type": "stream",
          "name": "stderr",
          "text": [
            "<ipython-input-147-90efb3c4df18>:11: SettingWithCopyWarning: \n",
            "A value is trying to be set on a copy of a slice from a DataFrame.\n",
            "Try using .loc[row_indexer,col_indexer] = value instead\n",
            "\n",
            "See the caveats in the documentation: https://pandas.pydata.org/pandas-docs/stable/user_guide/indexing.html#returning-a-view-versus-a-copy\n",
            "  khc_twbert_test['twbert_sentiment'] = sentiments\n"
          ]
        }
      ]
    },
    {
      "cell_type": "code",
      "source": [
        "sentiment_map = {0: 'negative', 1: 'neutral', 2: 'positive'}\n",
        "\n",
        "# Use numpy's vectorized operations to map values\n",
        "khc_twbert_test['twbert_sentiment1'] = np.vectorize(sentiment_map.get)(khc_twbert_test['twbert_sentiment'])"
      ],
      "metadata": {
        "colab": {
          "base_uri": "https://localhost:8080/"
        },
        "id": "6iJuJZPKudJW",
        "outputId": "f4dda697-87fb-4c80-8e03-59912ec03889"
      },
      "execution_count": null,
      "outputs": [
        {
          "output_type": "stream",
          "name": "stderr",
          "text": [
            "<ipython-input-148-b411482867b1>:4: SettingWithCopyWarning: \n",
            "A value is trying to be set on a copy of a slice from a DataFrame.\n",
            "Try using .loc[row_indexer,col_indexer] = value instead\n",
            "\n",
            "See the caveats in the documentation: https://pandas.pydata.org/pandas-docs/stable/user_guide/indexing.html#returning-a-view-versus-a-copy\n",
            "  khc_twbert_test['twbert_sentiment1'] = np.vectorize(sentiment_map.get)(khc_twbert_test['twbert_sentiment'])\n"
          ]
        }
      ]
    },
    {
      "cell_type": "code",
      "source": [
        "# BATCHBATCHBATCH\n",
        "import tensorflow as tf\n",
        "from transformers import TFAutoModelForSequenceClassification, AutoTokenizer, AutoConfig\n",
        "from scipy.special import softmax\n",
        "\n",
        "MODEL = \"cardiffnlp/twitter-roberta-base-sentiment-latest\"\n",
        "tokenizer = AutoTokenizer.from_pretrained(MODEL)\n",
        "config = AutoConfig.from_pretrained(MODEL)\n",
        "model = TFAutoModelForSequenceClassification.from_pretrained(MODEL)\n",
        "\n",
        "batch_size = 16  # Adjust the batch size as needed\n",
        "texts = khc_twbert_test['content'].tolist()\n",
        "\n",
        "sentiments = []  # Initialize an empty list to store sentiment analysis results\n",
        "\n",
        "for batch_start in range(0, len(texts), batch_size):\n",
        "    batch_texts = texts[batch_start:batch_start + batch_size]\n",
        "    encoded_inputs = tokenizer(batch_texts, return_tensors='tf', padding=True, truncation=True)\n",
        "    output = model(encoded_inputs)\n",
        "    scores = output.logits\n",
        "    scores = tf.nn.softmax(scores, axis=1)\n",
        "    predicted_sentiments = tf.argmax(scores, axis=1).numpy()  # Convert to numpy array\n",
        "    sentiments.extend(predicted_sentiments)\n",
        "\n",
        "# Add the sentiment analysis results to a new column in the DataFrame\n",
        "khc_twbert_test['twbert_sentiment'] = sentiments\n",
        "\n",
        "sentiment_map = {0: 'negative', 1: 'neutral', 2: 'positive'}\n",
        "\n",
        "# Use numpy's vectorized operations to map values\n",
        "khc_twbert_test['twbert_sentiment1'] = np.vectorize(sentiment_map.get)(khc_twbert_test['twbert_sentiment'])"
      ],
      "metadata": {
        "colab": {
          "base_uri": "https://localhost:8080/"
        },
        "id": "a8cnQTmF5R_B",
        "outputId": "c4c41f52-74c0-4ec7-e2f0-6d6b5f2789ad"
      },
      "execution_count": null,
      "outputs": [
        {
          "output_type": "stream",
          "name": "stderr",
          "text": [
            "<ipython-input-123-e99bd2949e32>:26: SettingWithCopyWarning: \n",
            "A value is trying to be set on a copy of a slice from a DataFrame.\n",
            "Try using .loc[row_indexer,col_indexer] = value instead\n",
            "\n",
            "See the caveats in the documentation: https://pandas.pydata.org/pandas-docs/stable/user_guide/indexing.html#returning-a-view-versus-a-copy\n",
            "  khc_twbert_test['twbert_sentiment'] = sentiments\n",
            "<ipython-input-123-e99bd2949e32>:31: SettingWithCopyWarning: \n",
            "A value is trying to be set on a copy of a slice from a DataFrame.\n",
            "Try using .loc[row_indexer,col_indexer] = value instead\n",
            "\n",
            "See the caveats in the documentation: https://pandas.pydata.org/pandas-docs/stable/user_guide/indexing.html#returning-a-view-versus-a-copy\n",
            "  khc_twbert_test['twbert_sentiment1'] = np.vectorize(sentiment_map.get)(khc_twbert_test['twbert_sentiment'])\n"
          ]
        }
      ]
    },
    {
      "cell_type": "code",
      "source": [
        "khc_twbert_test.iloc[:, [5, 19, -1]]"
      ],
      "metadata": {
        "colab": {
          "base_uri": "https://localhost:8080/",
          "height": 424
        },
        "id": "c-zaY1M8qfIh",
        "outputId": "1126fb35-5981-4e14-b08b-777e568b8ba6"
      },
      "execution_count": null,
      "outputs": [
        {
          "output_type": "execute_result",
          "data": {
            "text/plain": [
              "                                              content sentiment class  \\\n",
              "0     You mean \"Catsup.\" Seriously, Hunts had a br...         neutral   \n",
              "1      I smell a charity stream here…Each mileston...        positive   \n",
              "2   if anyone wants to get  fired up ask them abou...         neutral   \n",
              "3   just so you know, I work in a supermarket and ...        positive   \n",
              "4      So hard to believe Velveeta Voldemort suppo...        negative   \n",
              "..                                                ...             ...   \n",
              "95   Right! I know that paw patrol Kraft mac and c...        negative   \n",
              "96  The Kraft Heinz Company, Microsoft, Amazon, an...         neutral   \n",
              "97  good morning I have not slept and I wish to se...        negative   \n",
              "98  Kraft-heinz and their product  wants to see an...        negative   \n",
              "99   Kraft Singles sell a lot but it doesn't mean ...        positive   \n",
              "\n",
              "   twbert_sentiment1  \n",
              "0           Negative  \n",
              "1           Negative  \n",
              "2            Neutral  \n",
              "3           Negative  \n",
              "4            Neutral  \n",
              "..               ...  \n",
              "95          Negative  \n",
              "96          Negative  \n",
              "97           Neutral  \n",
              "98           Neutral  \n",
              "99          Negative  \n",
              "\n",
              "[100 rows x 3 columns]"
            ],
            "text/html": [
              "\n",
              "\n",
              "  <div id=\"df-0fd39538-bf46-4fd8-b6af-e5749828e685\">\n",
              "    <div class=\"colab-df-container\">\n",
              "      <div>\n",
              "<style scoped>\n",
              "    .dataframe tbody tr th:only-of-type {\n",
              "        vertical-align: middle;\n",
              "    }\n",
              "\n",
              "    .dataframe tbody tr th {\n",
              "        vertical-align: top;\n",
              "    }\n",
              "\n",
              "    .dataframe thead th {\n",
              "        text-align: right;\n",
              "    }\n",
              "</style>\n",
              "<table border=\"1\" class=\"dataframe\">\n",
              "  <thead>\n",
              "    <tr style=\"text-align: right;\">\n",
              "      <th></th>\n",
              "      <th>content</th>\n",
              "      <th>sentiment class</th>\n",
              "      <th>twbert_sentiment1</th>\n",
              "    </tr>\n",
              "  </thead>\n",
              "  <tbody>\n",
              "    <tr>\n",
              "      <th>0</th>\n",
              "      <td>You mean \"Catsup.\" Seriously, Hunts had a br...</td>\n",
              "      <td>neutral</td>\n",
              "      <td>Negative</td>\n",
              "    </tr>\n",
              "    <tr>\n",
              "      <th>1</th>\n",
              "      <td>I smell a charity stream here…Each mileston...</td>\n",
              "      <td>positive</td>\n",
              "      <td>Negative</td>\n",
              "    </tr>\n",
              "    <tr>\n",
              "      <th>2</th>\n",
              "      <td>if anyone wants to get  fired up ask them abou...</td>\n",
              "      <td>neutral</td>\n",
              "      <td>Neutral</td>\n",
              "    </tr>\n",
              "    <tr>\n",
              "      <th>3</th>\n",
              "      <td>just so you know, I work in a supermarket and ...</td>\n",
              "      <td>positive</td>\n",
              "      <td>Negative</td>\n",
              "    </tr>\n",
              "    <tr>\n",
              "      <th>4</th>\n",
              "      <td>So hard to believe Velveeta Voldemort suppo...</td>\n",
              "      <td>negative</td>\n",
              "      <td>Neutral</td>\n",
              "    </tr>\n",
              "    <tr>\n",
              "      <th>...</th>\n",
              "      <td>...</td>\n",
              "      <td>...</td>\n",
              "      <td>...</td>\n",
              "    </tr>\n",
              "    <tr>\n",
              "      <th>95</th>\n",
              "      <td>Right! I know that paw patrol Kraft mac and c...</td>\n",
              "      <td>negative</td>\n",
              "      <td>Negative</td>\n",
              "    </tr>\n",
              "    <tr>\n",
              "      <th>96</th>\n",
              "      <td>The Kraft Heinz Company, Microsoft, Amazon, an...</td>\n",
              "      <td>neutral</td>\n",
              "      <td>Negative</td>\n",
              "    </tr>\n",
              "    <tr>\n",
              "      <th>97</th>\n",
              "      <td>good morning I have not slept and I wish to se...</td>\n",
              "      <td>negative</td>\n",
              "      <td>Neutral</td>\n",
              "    </tr>\n",
              "    <tr>\n",
              "      <th>98</th>\n",
              "      <td>Kraft-heinz and their product  wants to see an...</td>\n",
              "      <td>negative</td>\n",
              "      <td>Neutral</td>\n",
              "    </tr>\n",
              "    <tr>\n",
              "      <th>99</th>\n",
              "      <td>Kraft Singles sell a lot but it doesn't mean ...</td>\n",
              "      <td>positive</td>\n",
              "      <td>Negative</td>\n",
              "    </tr>\n",
              "  </tbody>\n",
              "</table>\n",
              "<p>100 rows × 3 columns</p>\n",
              "</div>\n",
              "      <button class=\"colab-df-convert\" onclick=\"convertToInteractive('df-0fd39538-bf46-4fd8-b6af-e5749828e685')\"\n",
              "              title=\"Convert this dataframe to an interactive table.\"\n",
              "              style=\"display:none;\">\n",
              "\n",
              "  <svg xmlns=\"http://www.w3.org/2000/svg\" height=\"24px\"viewBox=\"0 0 24 24\"\n",
              "       width=\"24px\">\n",
              "    <path d=\"M0 0h24v24H0V0z\" fill=\"none\"/>\n",
              "    <path d=\"M18.56 5.44l.94 2.06.94-2.06 2.06-.94-2.06-.94-.94-2.06-.94 2.06-2.06.94zm-11 1L8.5 8.5l.94-2.06 2.06-.94-2.06-.94L8.5 2.5l-.94 2.06-2.06.94zm10 10l.94 2.06.94-2.06 2.06-.94-2.06-.94-.94-2.06-.94 2.06-2.06.94z\"/><path d=\"M17.41 7.96l-1.37-1.37c-.4-.4-.92-.59-1.43-.59-.52 0-1.04.2-1.43.59L10.3 9.45l-7.72 7.72c-.78.78-.78 2.05 0 2.83L4 21.41c.39.39.9.59 1.41.59.51 0 1.02-.2 1.41-.59l7.78-7.78 2.81-2.81c.8-.78.8-2.07 0-2.86zM5.41 20L4 18.59l7.72-7.72 1.47 1.35L5.41 20z\"/>\n",
              "  </svg>\n",
              "      </button>\n",
              "\n",
              "\n",
              "\n",
              "    <div id=\"df-4370d9b7-1d38-43ca-b923-5b43d42b3fbe\">\n",
              "      <button class=\"colab-df-quickchart\" onclick=\"quickchart('df-4370d9b7-1d38-43ca-b923-5b43d42b3fbe')\"\n",
              "              title=\"Suggest charts.\"\n",
              "              style=\"display:none;\">\n",
              "\n",
              "<svg xmlns=\"http://www.w3.org/2000/svg\" height=\"24px\"viewBox=\"0 0 24 24\"\n",
              "     width=\"24px\">\n",
              "    <g>\n",
              "        <path d=\"M19 3H5c-1.1 0-2 .9-2 2v14c0 1.1.9 2 2 2h14c1.1 0 2-.9 2-2V5c0-1.1-.9-2-2-2zM9 17H7v-7h2v7zm4 0h-2V7h2v10zm4 0h-2v-4h2v4z\"/>\n",
              "    </g>\n",
              "</svg>\n",
              "      </button>\n",
              "    </div>\n",
              "\n",
              "<style>\n",
              "  .colab-df-quickchart {\n",
              "    background-color: #E8F0FE;\n",
              "    border: none;\n",
              "    border-radius: 50%;\n",
              "    cursor: pointer;\n",
              "    display: none;\n",
              "    fill: #1967D2;\n",
              "    height: 32px;\n",
              "    padding: 0 0 0 0;\n",
              "    width: 32px;\n",
              "  }\n",
              "\n",
              "  .colab-df-quickchart:hover {\n",
              "    background-color: #E2EBFA;\n",
              "    box-shadow: 0px 1px 2px rgba(60, 64, 67, 0.3), 0px 1px 3px 1px rgba(60, 64, 67, 0.15);\n",
              "    fill: #174EA6;\n",
              "  }\n",
              "\n",
              "  [theme=dark] .colab-df-quickchart {\n",
              "    background-color: #3B4455;\n",
              "    fill: #D2E3FC;\n",
              "  }\n",
              "\n",
              "  [theme=dark] .colab-df-quickchart:hover {\n",
              "    background-color: #434B5C;\n",
              "    box-shadow: 0px 1px 3px 1px rgba(0, 0, 0, 0.15);\n",
              "    filter: drop-shadow(0px 1px 2px rgba(0, 0, 0, 0.3));\n",
              "    fill: #FFFFFF;\n",
              "  }\n",
              "</style>\n",
              "\n",
              "    <script>\n",
              "      async function quickchart(key) {\n",
              "        const containerElement = document.querySelector('#' + key);\n",
              "        const charts = await google.colab.kernel.invokeFunction(\n",
              "            'suggestCharts', [key], {});\n",
              "      }\n",
              "    </script>\n",
              "\n",
              "      <script>\n",
              "\n",
              "function displayQuickchartButton(domScope) {\n",
              "  let quickchartButtonEl =\n",
              "    domScope.querySelector('#df-4370d9b7-1d38-43ca-b923-5b43d42b3fbe button.colab-df-quickchart');\n",
              "  quickchartButtonEl.style.display =\n",
              "    google.colab.kernel.accessAllowed ? 'block' : 'none';\n",
              "}\n",
              "\n",
              "        displayQuickchartButton(document);\n",
              "      </script>\n",
              "      <style>\n",
              "    .colab-df-container {\n",
              "      display:flex;\n",
              "      flex-wrap:wrap;\n",
              "      gap: 12px;\n",
              "    }\n",
              "\n",
              "    .colab-df-convert {\n",
              "      background-color: #E8F0FE;\n",
              "      border: none;\n",
              "      border-radius: 50%;\n",
              "      cursor: pointer;\n",
              "      display: none;\n",
              "      fill: #1967D2;\n",
              "      height: 32px;\n",
              "      padding: 0 0 0 0;\n",
              "      width: 32px;\n",
              "    }\n",
              "\n",
              "    .colab-df-convert:hover {\n",
              "      background-color: #E2EBFA;\n",
              "      box-shadow: 0px 1px 2px rgba(60, 64, 67, 0.3), 0px 1px 3px 1px rgba(60, 64, 67, 0.15);\n",
              "      fill: #174EA6;\n",
              "    }\n",
              "\n",
              "    [theme=dark] .colab-df-convert {\n",
              "      background-color: #3B4455;\n",
              "      fill: #D2E3FC;\n",
              "    }\n",
              "\n",
              "    [theme=dark] .colab-df-convert:hover {\n",
              "      background-color: #434B5C;\n",
              "      box-shadow: 0px 1px 3px 1px rgba(0, 0, 0, 0.15);\n",
              "      filter: drop-shadow(0px 1px 2px rgba(0, 0, 0, 0.3));\n",
              "      fill: #FFFFFF;\n",
              "    }\n",
              "  </style>\n",
              "\n",
              "      <script>\n",
              "        const buttonEl =\n",
              "          document.querySelector('#df-0fd39538-bf46-4fd8-b6af-e5749828e685 button.colab-df-convert');\n",
              "        buttonEl.style.display =\n",
              "          google.colab.kernel.accessAllowed ? 'block' : 'none';\n",
              "\n",
              "        async function convertToInteractive(key) {\n",
              "          const element = document.querySelector('#df-0fd39538-bf46-4fd8-b6af-e5749828e685');\n",
              "          const dataTable =\n",
              "            await google.colab.kernel.invokeFunction('convertToInteractive',\n",
              "                                                     [key], {});\n",
              "          if (!dataTable) return;\n",
              "\n",
              "          const docLinkHtml = 'Like what you see? Visit the ' +\n",
              "            '<a target=\"_blank\" href=https://colab.research.google.com/notebooks/data_table.ipynb>data table notebook</a>'\n",
              "            + ' to learn more about interactive tables.';\n",
              "          element.innerHTML = '';\n",
              "          dataTable['output_type'] = 'display_data';\n",
              "          await google.colab.output.renderOutput(dataTable, element);\n",
              "          const docLink = document.createElement('div');\n",
              "          docLink.innerHTML = docLinkHtml;\n",
              "          element.appendChild(docLink);\n",
              "        }\n",
              "      </script>\n",
              "    </div>\n",
              "  </div>\n"
            ]
          },
          "metadata": {},
          "execution_count": 119
        }
      ]
    },
    {
      "cell_type": "markdown",
      "source": [
        "# Difference between Pulsar and Flair sentiment"
      ],
      "metadata": {
        "id": "0UWRjlpdBKer"
      }
    },
    {
      "cell_type": "code",
      "source": [
        "# Twitter\n",
        "different_df = khc_df_tw[khc_df_tw['flair_sentiment'] != khc_df_tw['sentiment class']]\n",
        "different_df = different_df.iloc[:, [0,5,18,-2,-1]]\n",
        "different_df"
      ],
      "metadata": {
        "id": "z77mXhFgxNEi"
      },
      "execution_count": null,
      "outputs": []
    },
    {
      "cell_type": "code",
      "source": [
        "different_df1 = khc_twbert_test[khc_twbert_test['twbert_sentiment1'] != khc_twbert_test['sentiment class']]\n",
        "different_df1 = different_df1.iloc[:, [5,18, -1]]\n",
        "different_df1"
      ],
      "metadata": {
        "id": "CHhP8MSk6r5y"
      },
      "execution_count": null,
      "outputs": []
    },
    {
      "cell_type": "markdown",
      "source": [
        "# Export the data to an excel file"
      ],
      "metadata": {
        "id": "9DKh13C6ByQ7"
      }
    },
    {
      "cell_type": "code",
      "source": [
        "# move 'keywords' ahead follow by 'content'\n",
        "columns = khc_df_tw.columns.tolist()\n",
        "columns.insert(6, columns.pop(-3))\n",
        "khc_df_tw = khc_df_tw[columns]"
      ],
      "metadata": {
        "id": "KqxANLDUB9ye"
      },
      "execution_count": null,
      "outputs": []
    },
    {
      "cell_type": "code",
      "source": [
        "khc_df_tw.head()"
      ],
      "metadata": {
        "id": "QqvJqhrwn053"
      },
      "execution_count": null,
      "outputs": []
    },
    {
      "cell_type": "code",
      "source": [
        "# save to new excel file\n",
        "khc_df_tw.to_excel('/content/drive/MyDrive/Zeno/khc_H1_twitter_0808.xlsx', index=False)"
      ],
      "metadata": {
        "id": "P2qj81Mifhdn"
      },
      "execution_count": null,
      "outputs": []
    }
  ]
}